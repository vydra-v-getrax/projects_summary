{
 "cells": [
  {
   "cell_type": "markdown",
   "metadata": {},
   "source": [
    "## Создание базы данных и таблиц"
   ]
  },
  {
   "cell_type": "code",
   "execution_count": 29,
   "metadata": {},
   "outputs": [],
   "source": [
    "import csv\n",
    "import pandas as pd\n",
    "from datetime import datetime"
   ]
  },
  {
   "cell_type": "markdown",
   "metadata": {},
   "source": [
    "Чтение данных из csv-файлов"
   ]
  },
  {
   "cell_type": "code",
   "execution_count": 11,
   "metadata": {},
   "outputs": [],
   "source": [
    "with open('P9-Pets.csv', newline='') as csvfile:\n",
    "    spamreader = csv.reader(csvfile)\n",
    "    pets = []\n",
    "    for row in spamreader:\n",
    "        pets.append(row)"
   ]
  },
  {
   "cell_type": "code",
   "execution_count": 12,
   "metadata": {},
   "outputs": [],
   "source": [
    "with open('P9-Owners.csv', newline='') as csvfile:\n",
    "    spamreader = csv.reader(csvfile)\n",
    "    owners = []\n",
    "    for row in spamreader:\n",
    "        owners.append(row)"
   ]
  },
  {
   "cell_type": "code",
   "execution_count": 13,
   "metadata": {},
   "outputs": [],
   "source": [
    "with open('P9-ProceduresHistory.csv', newline='') as csvfile:\n",
    "    spamreader = csv.reader(csvfile)\n",
    "    history = []\n",
    "    for row in spamreader:\n",
    "        history.append(row)"
   ]
  },
  {
   "cell_type": "code",
   "execution_count": 14,
   "metadata": {},
   "outputs": [],
   "source": [
    "with open('P9-ProceduresDetails.csv', newline='') as csvfile:\n",
    "    spamreader = csv.reader(csvfile)\n",
    "    details = []\n",
    "    for row in spamreader:\n",
    "        details.append(row)"
   ]
  },
  {
   "cell_type": "markdown",
   "metadata": {},
   "source": [
    "Подключение к mysql и создание базы"
   ]
  },
  {
   "cell_type": "code",
   "execution_count": 2,
   "metadata": {},
   "outputs": [],
   "source": [
    "# import mysql.connector\n",
    "import mysql.connector as sql"
   ]
  },
  {
   "cell_type": "code",
   "execution_count": 3,
   "metadata": {},
   "outputs": [],
   "source": [
    "# con = mysql.connector.connect(host='127.0.0.1', port=3306, user='root', password='kat_dreaming99')\n",
    "con = sql.connect(host='127.0.0.1', port=3306, user='root', password='Sunny_Flower_35')"
   ]
  },
  {
   "cell_type": "code",
   "execution_count": 4,
   "metadata": {},
   "outputs": [],
   "source": [
    "cur=con.cursor(buffered=True, dictionary=True)"
   ]
  },
  {
   "cell_type": "code",
   "execution_count": 5,
   "metadata": {},
   "outputs": [],
   "source": [
    "cur.execute(\"CREATE DATABASE IF NOT EXISTS vet_database /*!40100 DEFAULT CHARACTER SET utf8mb4 COLLATE utf8mb4_0900_ai_ci */ /*!80016 DEFAULT ENCRYPTION='N' */;\")"
   ]
  },
  {
   "cell_type": "code",
   "execution_count": 6,
   "metadata": {},
   "outputs": [],
   "source": [
    "# con = mysql.connector.connect(host='127.0.0.1', port=3306, database='vet_database', user='root', password='kat_dreaming99')\n",
    "con = sql.connect(host='127.0.0.1', port=3306, database='vet_database', user='root', password='Sunny_Flower_35')"
   ]
  },
  {
   "cell_type": "code",
   "execution_count": 7,
   "metadata": {},
   "outputs": [],
   "source": [
    "cur = con.cursor(buffered=True, dictionary=True)"
   ]
  },
  {
   "cell_type": "markdown",
   "metadata": {},
   "source": [
    "Создание и заполнение таблиц"
   ]
  },
  {
   "cell_type": "code",
   "execution_count": 25,
   "metadata": {},
   "outputs": [],
   "source": [
    "cur.execute(\"\"\"CREATE TABLE IF NOT EXISTS pets (\n",
    "  id INT NOT NULL AUTO_INCREMENT PRIMARY KEY,\n",
    "  pet_id VARCHAR(24) NOT NULL,\n",
    "  name VARCHAR(24) NOT NULL,\n",
    "  kind VARCHAR(24) NOT NULL,\n",
    "  gender VARCHAR(24) BINARY,\n",
    "  age INT,\n",
    "  owner_id VARCHAR(24))\n",
    "\"\"\")"
   ]
  },
  {
   "cell_type": "code",
   "execution_count": 26,
   "metadata": {},
   "outputs": [],
   "source": [
    "for i, row in enumerate(pets[1:]):\n",
    "    try:\n",
    "        sss = f\"INSERT INTO pets (pet_id, name, kind, gender, age, owner_id) VALUES ('{row[0]}', '{row[1]}', '{row[2]}', '{row[3]}', '{row[4]}', '{row[5]}')\"\n",
    "        cur.execute(sss)\n",
    "    except:\n",
    "        print(\"Error - INSERT INTO pets (pet_id, name, kind, gender, age, owner_id) VALUES ('\"+row[0]+\"', '\"+row[1]+\"', '\"+row[2]+\"', '\"+row[3]+\"', '\"+row[4]+\"', '\"+row[5]+\"')\")\n",
    "    \n",
    "    con.commit()"
   ]
  },
  {
   "cell_type": "code",
   "execution_count": 27,
   "metadata": {},
   "outputs": [],
   "source": [
    "cur.execute(\"\"\"CREATE TABLE IF NOT EXISTS owners (\n",
    "  id INT NOT NULL AUTO_INCREMENT PRIMARY KEY,\n",
    "  owner_id VARCHAR(24) NOT NULL,\n",
    "  name VARCHAR(24) NOT NULL,\n",
    "  surname VARCHAR(24) NOT NULL,\n",
    "  address VARCHAR(24) NOT NULL,\n",
    "  city VARCHAR(24) NOT NULL,\n",
    "  state VARCHAR(24) NOT NULL,\n",
    "  state_full VARCHAR(24) NOT NULL,\n",
    "  zipcode VARCHAR(24))\n",
    "\"\"\")"
   ]
  },
  {
   "cell_type": "code",
   "execution_count": 31,
   "metadata": {},
   "outputs": [],
   "source": [
    "for row in owners[1:]:\n",
    "    try:\n",
    "        sss = f\"INSERT INTO owners (owner_id, name, surname, address, city, state, state_full, zipcode) VALUES ('{row[0]}', '{row[1]}', '{row[2]}', '{row[3]}', '{row[4]}', '{row[5]}', '{row[6]}', '{row[7]}')\"\n",
    "        cur.execute(sss)\n",
    "    except:\n",
    "        print(\"Error - INSERT INTO owners (owner_id, name, surname, address, city, state, state_full, zipcode) VALUES ('\"+row[0]+\"', '\"+row[1]+\"', '\"+row[2]+\"', '\"+row[3]+\"', '\"+row[4]+\"', '\"+row[5]+\"', '\"+row[6]+\"', '\"+row[7]+\"')\")\n",
    "    \n",
    "    con.commit()"
   ]
  },
  {
   "cell_type": "code",
   "execution_count": 32,
   "metadata": {},
   "outputs": [],
   "source": [
    "cur.execute(\"\"\"CREATE TABLE IF NOT EXISTS history (\n",
    "  id INT NOT NULL AUTO_INCREMENT PRIMARY KEY,\n",
    "  pet_id VARCHAR(24) NOT NULL,\n",
    "  date DATETIME NOT NULL,\n",
    "  type VARCHAR(24) NOT NULL,\n",
    "  subcode VARCHAR(24) NOT NULL)\n",
    "\"\"\")"
   ]
  },
  {
   "cell_type": "code",
   "execution_count": 33,
   "metadata": {},
   "outputs": [],
   "source": [
    "for i, row in enumerate(history[1:]):\n",
    "    try:\n",
    "        sss = f\"INSERT INTO history (pet_id, date, type, subcode) VALUES ('{row[0]}', '{row[1]}', '{row[2]}', '{row[3]}')\"\n",
    "        cur.execute(sss)\n",
    "    except:\n",
    "        print(\"Error - INSERT INTO history (pet_id, date, type, subcode) VALUES ('\"+row[0]+\"', '\"+row[1]+\"', '\"+row[2]+\"', '\"+row[3]+\"')\")\n",
    "    \n",
    "    con.commit()"
   ]
  },
  {
   "cell_type": "code",
   "execution_count": 34,
   "metadata": {},
   "outputs": [],
   "source": [
    "cur.execute(\"\"\"CREATE TABLE IF NOT EXISTS details (\n",
    "  id INT NOT NULL AUTO_INCREMENT PRIMARY KEY,\n",
    "  type VARCHAR(24) NOT NULL,\n",
    "  subcode VARCHAR(24) NOT NULL,\n",
    "  description VARCHAR(24) NOT NULL,\n",
    "  price INT NOT NULL)\n",
    "\"\"\")"
   ]
  },
  {
   "cell_type": "code",
   "execution_count": 35,
   "metadata": {},
   "outputs": [],
   "source": [
    "for i, row in enumerate(details[1:]):\n",
    "    try:\n",
    "        sss = f\"INSERT INTO details (type, subcode, description, price) VALUES ('{row[0]}', '{row[1]}', '{row[2]}', '{row[3]}')\"\n",
    "        cur.execute(sss)\n",
    "    except:\n",
    "        print(\"Error - INSERT INTO details (type, subcode, description, price) VALUES ('\"+row[0]+\"', '\"+row[1]+\"', '\"+row[2]+\"', '\"+row[3]+\"')\")\n",
    "    \n",
    "    con.commit()"
   ]
  },
  {
   "cell_type": "markdown",
   "metadata": {},
   "source": [
    "В двух таблицах (history и details) хранение данных показалось нам некорректным: для определения типа процедуры использовалось два признака - Type (общий тип, например, \"Grooming\") и SubCode (более конкретный тип, например, \"01\" как процедура, включающая мойку). Мы добавили в таблицу записи процедур признак \"proc_id\", содержащий информацию об id процедуры (как объединение пары описанных признаков) из таблицы details."
   ]
  },
  {
   "cell_type": "code",
   "execution_count": 9,
   "metadata": {},
   "outputs": [
    {
     "name": "stdout",
     "output_type": "stream",
     "text": [
      "Column already exists.\n"
     ]
    }
   ],
   "source": [
    "good_id = \"\"\"ALTER TABLE vet_database.history ADD COLUMN proc_id INT DEFAULT 0\"\"\"\n",
    "upd_prod = \"\"\"UPDATE vet_database.history t1\n",
    "INNER JOIN vet_database.details t2 \n",
    "ON t1.type = t2.type AND t1.subcode = t2.subcode\n",
    "SET t1.proc_id = t2.id\"\"\"\n",
    "\n",
    "try:\n",
    "    cur.execute(good_id)\n",
    "except:\n",
    "    print('Column already exists.')\n",
    "con.commit()"
   ]
  },
  {
   "cell_type": "code",
   "execution_count": 10,
   "metadata": {},
   "outputs": [
    {
     "name": "stdout",
     "output_type": "stream",
     "text": [
      "All is already up-to-date\n"
     ]
    }
   ],
   "source": [
    "try:\n",
    "    cur.execute(upd_prod)\n",
    "except:\n",
    "    print('All is already up-to-date')\n",
    "con.commit()"
   ]
  },
  {
   "cell_type": "code",
   "execution_count": 11,
   "metadata": {},
   "outputs": [
    {
     "name": "stdout",
     "output_type": "stream",
     "text": [
      "id_proc: 1\n",
      "pet_id: A8-1181\n",
      "date: 2016-01-10 00:00:00\n",
      "proc_id: 11\n"
     ]
    }
   ],
   "source": [
    "cur.execute(\"SELECT * FROM history\")\n",
    "res = cur.fetchone()\n",
    "for k, v in res.items():\n",
    "    print(k, v, sep=': ')"
   ]
  },
  {
   "cell_type": "markdown",
   "metadata": {},
   "source": [
    "## Интерфейс"
   ]
  },
  {
   "cell_type": "markdown",
   "metadata": {},
   "source": [
    "### Добавление в таблицу"
   ]
  },
  {
   "cell_type": "code",
   "execution_count": 12,
   "metadata": {},
   "outputs": [
    {
     "name": "stdout",
     "output_type": "stream",
     "text": [
      "Выберите таблицу, в которую хотите добавить данные: pets (наберите 1), owners (2), details (3): pets\n",
      "Вы выбрали таблицу pets\n"
     ]
    }
   ],
   "source": [
    "choice = input('Выберите таблицу, в которую хотите добавить данные: pets (наберите 1), owners (2), details (3): ').lower()\n",
    "if choice == '1' or choice == 'pets':\n",
    "    table = 'pets'\n",
    "    print('Вы выбрали таблицу', table)\n",
    "elif choice == '2' or choice == 'owners':\n",
    "    table = 'owners'\n",
    "    print('Вы выбрали таблицу', table)\n",
    "elif choice == '3' or choice == 'details':\n",
    "    table = 'details'\n",
    "    print('Вы выбрали таблицу', table)\n",
    "else:\n",
    "    print('Вы ввели некорректный номер таблицы, попробуйте запустить заново.')"
   ]
  },
  {
   "cell_type": "code",
   "execution_count": 13,
   "metadata": {},
   "outputs": [
    {
     "name": "stdout",
     "output_type": "stream",
     "text": [
      "Сейчас вам нужно будет заполнить данные о каждом из полей: pet_id, name, kind, gender, age, owner_id.\n",
      "Введите данные о pet_id: 098014\n",
      "Введите данные о name: nod\n",
      "Введите данные о kind: cat\n",
      "Введите данные о gender: iwf\n",
      "Введите данные о age: k\n",
      "Введите данные о owner_id: 2\n",
      "Что-то пошло не так. Проверьте запрос и попробуйте ещё раз.\n"
     ]
    }
   ],
   "source": [
    "get_cols = 'SHOW columns FROM ' + table\n",
    "cur.execute(get_cols)\n",
    "columns = ([d['Field'] for d in cur.fetchall()])\n",
    "print('Сейчас вам нужно будет заполнить данные о каждом из полей: ' + ', '.join(columns[1:]) + '.')\n",
    "row = []\n",
    "for column in columns[1:]:\n",
    "    row.append(input('Введите данные о ' + column + ': '))\n",
    "\n",
    "if table == 'pets':\n",
    "    add = f\"INSERT INTO pets (pet_id, name, kind, gender, age, owner_id) VALUES ('{row[0]}', '{row[1]}', '{row[2]}', '{row[3]}', '{row[4]}', '{row[5]}')\"\n",
    "elif table == 'owners':\n",
    "    add = f\"INSERT INTO owners (owner_id, name, surname, address, city, state, state_full, zipcode) VALUES ('{row[0]}', '{row[1]}', '{row[2]}', '{row[3]}', '{row[4]}', '{row[5]}', '{row[6]}', '{row[7]}')\"\n",
    "else:\n",
    "    add = f\"INSERT INTO details (type, subcode, description, price) VALUES ('{row[0]}', '{row[1]}', '{row[2]}', '{row[3]}')\"\n",
    "    \n",
    "try:\n",
    "    cur.execute(add)\n",
    "except:\n",
    "    print(\"Что-то пошло не так. Проверьте запрос и попробуйте ещё раз.\")\n",
    "con.commit()"
   ]
  },
  {
   "cell_type": "markdown",
   "metadata": {},
   "source": [
    "### Удаление данных"
   ]
  },
  {
   "cell_type": "code",
   "execution_count": 15,
   "metadata": {},
   "outputs": [
    {
     "name": "stdout",
     "output_type": "stream",
     "text": [
      "Выберите таблицу, из которой хотите удалить данные: pets (наберите 1), owners (2): pets\n",
      "Вы выбрали таблицу pets\n"
     ]
    }
   ],
   "source": [
    "choice = input('Выберите таблицу, из которой хотите удалить данные: pets (наберите 1), owners (2): ').lower()\n",
    "if choice == '1' or choice == 'pets':\n",
    "    table = 'pets'\n",
    "    print('Вы выбрали таблицу', table)\n",
    "elif choice == '2' or choice == 'owners':\n",
    "    table = 'owners'\n",
    "    print('Вы выбрали таблицу', table)\n",
    "else:\n",
    "    print('Вы ввели некорректный номер таблицы, попробуйте запустить заново.')"
   ]
  },
  {
   "cell_type": "code",
   "execution_count": 17,
   "metadata": {},
   "outputs": [
    {
     "name": "stdout",
     "output_type": "stream",
     "text": [
      "Сейчас вам нужно будет выбрать, по каким полям из pet_id, name, kind, gender, age, owner_id нужно будет искать данные (не более трёх). Перечислите названия через запятую, пожалуйста.\n",
      "По каким полям? L8-0987, simba, cat\n",
      "Введите значения параметра L8-0987: pet_id\n",
      "Введите значения параметра simba: name\n",
      "Введите значения параметра cat: kind\n",
      "DELETE FROM pets WHERE L8-0987=098014 AND simba=nod AND cat=cat \n",
      "Что-то пошло не так. Проверьте, что введённые данные корректны, и запустите заново.\n"
     ]
    }
   ],
   "source": [
    "get_cols = 'SHOW columns FROM ' + table\n",
    "cur.execute(get_cols)\n",
    "columns = ([d['Field'] for d in cur.fetchall()])\n",
    "print('Сейчас вам нужно будет выбрать, по каким полям из ' + ', '.join(columns[1:]) + ' нужно будет искать данные (не более трёх). Перечислите названия через запятую, пожалуйста.')\n",
    "cols = input('По каким полям? ')\n",
    "cols = cols.split(',')\n",
    "cols = [col.strip() for col in cols]\n",
    "\n",
    "raw = []\n",
    "if len(cols) > 3 or len(cols) < 1:\n",
    "    print('Выберите, пожалуйста, одно, два или три поля для поиска и запустите заново.')\n",
    "else:\n",
    "    for column in cols:\n",
    "        row.append(\"'\"+input('Введите значения параметра ' + column + ': ')+\"'\")\n",
    "    if len(cols) == 1:\n",
    "        d = \"DELETE FROM \"+table+\" WHERE \"+cols[0]+\"=\"+row[0]  \n",
    "    elif len(cols) == 2:\n",
    "        d = \"DELETE FROM \"+table+\" WHERE \"+cols[0]+\"=\"+row[0]+\" AND \"+cols[1]+\"=\"+row[1]\n",
    "    else:\n",
    "        d = \"DELETE FROM \"+table+\" WHERE \"+cols[0]+\"=\"+row[0]+\" AND \"+cols[1]+\"=\"+row[1]+\" AND \"+cols[2]+\"=\"+row[2]\n",
    "    try:\n",
    "        cur.execute(d)\n",
    "        print('Deleted:', d)\n",
    "        con.commit()\n",
    "    except:\n",
    "        print(d, \"\\nЧто-то пошло не так. Проверьте, что введённые данные корректны, и запустите заново.\")"
   ]
  },
  {
   "cell_type": "markdown",
   "metadata": {},
   "source": [
    "#### Узнать pet_id питомца"
   ]
  },
  {
   "cell_type": "code",
   "execution_count": 40,
   "metadata": {},
   "outputs": [
    {
     "name": "stdout",
     "output_type": "stream",
     "text": [
      "Введите имя питомца: Tiger\n",
      "Какой у вас питомец? Dog\n",
      "Введите возраст питомца: 15\n"
     ]
    }
   ],
   "source": [
    "name = input(\"Введите имя питомца: \")\n",
    "kind = input(\"Какой у вас питомец? \")\n",
    "age = input(\"Введите возраст питомца: \")"
   ]
  },
  {
   "cell_type": "code",
   "execution_count": 42,
   "metadata": {},
   "outputs": [
    {
     "name": "stdout",
     "output_type": "stream",
     "text": [
      "pet_id ващего питомца: N8-0553\n"
     ]
    }
   ],
   "source": [
    "get_pet_id = \"SELECT pet_id FROM pets WHERE name='\"+name+\"' AND kind='\"+kind+\"' AND age='\"+age+\"'\"\n",
    "cur.execute(get_pet_id)\n",
    "print(\"pet_id ващего питомца:\", cur.fetchone()['pet_id'])"
   ]
  },
  {
   "cell_type": "markdown",
   "metadata": {},
   "source": [
    "#### Узнать owner_id владельца"
   ]
  },
  {
   "cell_type": "code",
   "execution_count": 43,
   "metadata": {},
   "outputs": [
    {
     "name": "stdout",
     "output_type": "stream",
     "text": [
      "Ваше имя: Carmen\n",
      "Ваша фамилия: Ingram\n",
      "Ваш город: Detroit\n"
     ]
    }
   ],
   "source": [
    "name = input(\"Ваше имя: \")\n",
    "surname = input(\"Ваша фамилия: \")\n",
    "city = input(\"Ваш город: \")"
   ]
  },
  {
   "cell_type": "code",
   "execution_count": 44,
   "metadata": {},
   "outputs": [
    {
     "name": "stdout",
     "output_type": "stream",
     "text": [
      "owner_id владельца: 9614\n"
     ]
    }
   ],
   "source": [
    "get_owner_id = \"SELECT owner_id FROM owners WHERE name='\"+name+\"' AND surname='\"+surname+\"' AND city='\"+city+\"'\"\n",
    "cur.execute(get_owner_id)\n",
    "print(\"owner_id владельца:\", cur.fetchone()['owner_id'])"
   ]
  },
  {
   "cell_type": "markdown",
   "metadata": {},
   "source": [
    "### Модификация данных"
   ]
  },
  {
   "cell_type": "markdown",
   "metadata": {},
   "source": [
    "Как инструмент для исправления опечаток, которые часто встречаются в таких документах, например. Для модификации необходимо знать id питомца или владельца (в зависимости от запроса)."
   ]
  },
  {
   "cell_type": "code",
   "execution_count": 45,
   "metadata": {},
   "outputs": [
    {
     "name": "stdout",
     "output_type": "stream",
     "text": [
      "Выберите таблицу, в которой хотите изменить что-то: pets (наберите 1), owners (2): 2\n",
      "Вы выбрали таблицу owners\n"
     ]
    }
   ],
   "source": [
    "choice = input('Выберите таблицу, в которой хотите изменить что-то: pets (наберите 1), owners (2): ').lower()\n",
    "if choice == '1' or choice == 'pets':\n",
    "    table = 'pets'\n",
    "    print('Вы выбрали таблицу', table)\n",
    "elif choice == '2' or choice == 'owners':\n",
    "    table = 'owners'\n",
    "    print('Вы выбрали таблицу', table)\n",
    "else:\n",
    "    print('Вы ввели некорректный номер таблицы, попробуйте запустить заново.')"
   ]
  },
  {
   "cell_type": "code",
   "execution_count": 46,
   "metadata": {},
   "outputs": [
    {
     "name": "stdout",
     "output_type": "stream",
     "text": [
      "Введите owner_id: 9614\n"
     ]
    }
   ],
   "source": [
    "if table == 'pets':\n",
    "    pet_id = input(\"Введите pet_id вашего питомца: \")\n",
    "else:\n",
    "    owner_id = input(\"Введите owner_id: \")"
   ]
  },
  {
   "cell_type": "code",
   "execution_count": 47,
   "metadata": {},
   "outputs": [
    {
     "name": "stdout",
     "output_type": "stream",
     "text": [
      "Какое поле вы хотите поменять? surname\n",
      "Сейчас это поле имеет значение Ingram\n",
      "На что вы хотите его поменять? Waterhouse\n",
      "Changed: UPDATE owners SET surname='Waterhouse' WHERE owner_id='9614'\n"
     ]
    }
   ],
   "source": [
    "if table == 'pets':\n",
    "    what = input(\"Какое поле вы хотите поменять? \")\n",
    "    check = \"SELECT \"+what+\" FROM \"+table+\" WHERE pet_id='\"+pet_id+\"'\"\n",
    "    try:\n",
    "        cur.execute(check)\n",
    "        print(\"Сейчас это поле имеет значение\", cur.fetchone()[what])\n",
    "    except:\n",
    "        print(\"Что-то пошло не так. Проверьте, существует ли такое поле.\")\n",
    "        raise Error\n",
    "    goal = input(\"На что вы хотите его поменять? \")\n",
    "    change = \"UPDATE \"+table+\" SET \"+what+\"='\"+goal+\"' WHERE pet_id='\"+pet_id+\"'\"\n",
    "    try:\n",
    "        cur.execute(change)\n",
    "        print(\"Changed:\", change)\n",
    "    except:\n",
    "        print(\"Что-то пошло не так во время изменения данных. Проверьте, корректен ли ваш запрос.\")\n",
    "elif table == 'owners':\n",
    "    what = input(\"Какое поле вы хотите поменять? \")\n",
    "    check = \"SELECT \"+what+\" FROM \"+table+\" WHERE owner_id='\"+owner_id+\"'\"\n",
    "    try:\n",
    "        cur.execute(check)\n",
    "        print(\"Сейчас это поле имеет значение\", cur.fetchone()[what])\n",
    "    except:\n",
    "        print(\"Что-то пошло не так. Проверьте, существует ли такое поле.\")\n",
    "    goal = input(\"На что вы хотите его поменять? \")\n",
    "    change = \"UPDATE \"+table+\" SET \"+what+\"='\"+goal+\"' WHERE owner_id='\"+owner_id+\"'\"\n",
    "    try:\n",
    "        cur.execute(change)\n",
    "        print(\"Changed:\", change)\n",
    "    except:\n",
    "        print(\"Что-то пошло не так во время изменения данных. Проверьте, корректен ли ваш запрос.\")\n",
    "con.commit()"
   ]
  },
  {
   "cell_type": "markdown",
   "metadata": {},
   "source": [
    "### Поиск"
   ]
  },
  {
   "cell_type": "markdown",
   "metadata": {},
   "source": [
    "#### Поиск истории лечения"
   ]
  },
  {
   "cell_type": "code",
   "execution_count": 13,
   "metadata": {},
   "outputs": [
    {
     "name": "stdout",
     "output_type": "stream",
     "text": [
      "Введите информацию для поиска. Любое поле можно пропустить, нажав Enter.\n",
      "Введите уникальный номер животного: T0-3277\n"
     ]
    },
    {
     "data": {
      "text/html": [
       "<div>\n",
       "<style scoped>\n",
       "    .dataframe tbody tr th:only-of-type {\n",
       "        vertical-align: middle;\n",
       "    }\n",
       "\n",
       "    .dataframe tbody tr th {\n",
       "        vertical-align: top;\n",
       "    }\n",
       "\n",
       "    .dataframe thead th {\n",
       "        text-align: right;\n",
       "    }\n",
       "</style>\n",
       "<table border=\"1\" class=\"dataframe\">\n",
       "  <thead>\n",
       "    <tr style=\"text-align: right;\">\n",
       "      <th></th>\n",
       "      <th>owner_id</th>\n",
       "      <th>city</th>\n",
       "      <th>name</th>\n",
       "      <th>surname</th>\n",
       "      <th>pet_id</th>\n",
       "      <th>date</th>\n",
       "      <th>type</th>\n",
       "      <th>subcode</th>\n",
       "      <th>description</th>\n",
       "    </tr>\n",
       "  </thead>\n",
       "  <tbody>\n",
       "    <tr>\n",
       "      <td>0</td>\n",
       "      <td>8133</td>\n",
       "      <td>Southfield</td>\n",
       "      <td>Humbert</td>\n",
       "      <td>Randolph</td>\n",
       "      <td>T0-3277</td>\n",
       "      <td>2016-01-22</td>\n",
       "      <td>VACCINATIONS</td>\n",
       "      <td>05</td>\n",
       "      <td>Rabies</td>\n",
       "    </tr>\n",
       "  </tbody>\n",
       "</table>\n",
       "</div>"
      ],
      "text/plain": [
       "  owner_id        city     name   surname   pet_id       date          type  \\\n",
       "0     8133  Southfield  Humbert  Randolph  T0-3277 2016-01-22  VACCINATIONS   \n",
       "\n",
       "  subcode description  \n",
       "0      05      Rabies  "
      ]
     },
     "execution_count": 13,
     "metadata": {},
     "output_type": "execute_result"
    }
   ],
   "source": [
    "def search():\n",
    "    result = None\n",
    "    \n",
    "    print('Введите информацию для поиска. Любое поле можно пропустить, нажав Enter.')\n",
    "\n",
    "    info = {'pets.pet_id': 'Введите уникальный номер животного: ',\n",
    "            'owners.owner_id': 'Введите уникальный номер владельца: ',\n",
    "            'owners.surname': 'Введите фамилию владельца: ',\n",
    "            'owners.city': 'Введите название города, в котором проходили лечение: '}\n",
    "\n",
    "    query = f\"\"\"SELECT owners.owner_id, owners.city, owners.name, owners.surname, \n",
    "            pets.pet_id, pets.name, \n",
    "            history.date, details.type, details.subcode, details.description \n",
    "            FROM vet_database.owners \n",
    "            INNER JOIN vet_database.pets ON pets.owner_id = owners.owner_id\n",
    "            INNER JOIN vet_database.history ON history.pet_id = pets.pet_id\n",
    "            INNER JOIN vet_database.details ON details.id_proc = history.proc_id\"\"\"\n",
    "    \n",
    "    for k, v in info.items():\n",
    "        ans = input(v)   \n",
    "        try:\n",
    "            q = query + f\" WHERE {k} = '{ans}'\"\n",
    "            cur.execute(q)\n",
    "            result = cur.fetchall()\n",
    "        except:\n",
    "            pass\n",
    "        if result:\n",
    "            return pd.DataFrame(result)\n",
    "    print('Не удалось ничего найти.')\n",
    "search()"
   ]
  },
  {
   "cell_type": "code",
   "execution_count": 14,
   "metadata": {},
   "outputs": [
    {
     "name": "stdout",
     "output_type": "stream",
     "text": [
      "Введите информацию для поиска. Любое поле можно пропустить, нажав Enter.\n",
      "Введите уникальный номер животного: \n",
      "Введите уникальный номер владельца: \n",
      "Введите фамилию владельца: \n",
      "Введите название города, в котором проходили лечение: Southfield\n"
     ]
    },
    {
     "data": {
      "text/html": [
       "<div>\n",
       "<style scoped>\n",
       "    .dataframe tbody tr th:only-of-type {\n",
       "        vertical-align: middle;\n",
       "    }\n",
       "\n",
       "    .dataframe tbody tr th {\n",
       "        vertical-align: top;\n",
       "    }\n",
       "\n",
       "    .dataframe thead th {\n",
       "        text-align: right;\n",
       "    }\n",
       "</style>\n",
       "<table border=\"1\" class=\"dataframe\">\n",
       "  <thead>\n",
       "    <tr style=\"text-align: right;\">\n",
       "      <th></th>\n",
       "      <th>owner_id</th>\n",
       "      <th>city</th>\n",
       "      <th>name</th>\n",
       "      <th>surname</th>\n",
       "      <th>pet_id</th>\n",
       "      <th>date</th>\n",
       "      <th>type</th>\n",
       "      <th>subcode</th>\n",
       "      <th>description</th>\n",
       "    </tr>\n",
       "  </thead>\n",
       "  <tbody>\n",
       "    <tr>\n",
       "      <td>0</td>\n",
       "      <td>8133</td>\n",
       "      <td>Southfield</td>\n",
       "      <td>Humbert</td>\n",
       "      <td>Randolph</td>\n",
       "      <td>T0-3277</td>\n",
       "      <td>2016-01-22</td>\n",
       "      <td>VACCINATIONS</td>\n",
       "      <td>05</td>\n",
       "      <td>Rabies</td>\n",
       "    </tr>\n",
       "    <tr>\n",
       "      <td>1</td>\n",
       "      <td>9900</td>\n",
       "      <td>Southfield</td>\n",
       "      <td>Dior</td>\n",
       "      <td>Floyd</td>\n",
       "      <td>I2-7926</td>\n",
       "      <td>2016-05-28</td>\n",
       "      <td>VACCINATIONS</td>\n",
       "      <td>05</td>\n",
       "      <td>Rabies</td>\n",
       "    </tr>\n",
       "    <tr>\n",
       "      <td>2</td>\n",
       "      <td>1070</td>\n",
       "      <td>Southfield</td>\n",
       "      <td>Biscuit</td>\n",
       "      <td>Velazquez</td>\n",
       "      <td>U8-6473</td>\n",
       "      <td>2016-07-10</td>\n",
       "      <td>VACCINATIONS</td>\n",
       "      <td>05</td>\n",
       "      <td>Rabies</td>\n",
       "    </tr>\n",
       "    <tr>\n",
       "      <td>3</td>\n",
       "      <td>1070</td>\n",
       "      <td>Southfield</td>\n",
       "      <td>Biscuit</td>\n",
       "      <td>Velazquez</td>\n",
       "      <td>U8-6473</td>\n",
       "      <td>2016-08-19</td>\n",
       "      <td>GROOMING</td>\n",
       "      <td>01</td>\n",
       "      <td>Bath</td>\n",
       "    </tr>\n",
       "    <tr>\n",
       "      <td>4</td>\n",
       "      <td>1546</td>\n",
       "      <td>Southfield</td>\n",
       "      <td>Blackie</td>\n",
       "      <td>Blow</td>\n",
       "      <td>U6-4890</td>\n",
       "      <td>2016-10-19</td>\n",
       "      <td>VACCINATIONS</td>\n",
       "      <td>05</td>\n",
       "      <td>Rabies</td>\n",
       "    </tr>\n",
       "    <tr>\n",
       "      <td>5</td>\n",
       "      <td>7846</td>\n",
       "      <td>Southfield</td>\n",
       "      <td>Scout</td>\n",
       "      <td>Warren</td>\n",
       "      <td>U4-9376</td>\n",
       "      <td>2016-12-10</td>\n",
       "      <td>VACCINATIONS</td>\n",
       "      <td>05</td>\n",
       "      <td>Rabies</td>\n",
       "    </tr>\n",
       "  </tbody>\n",
       "</table>\n",
       "</div>"
      ],
      "text/plain": [
       "  owner_id        city     name    surname   pet_id       date          type  \\\n",
       "0     8133  Southfield  Humbert   Randolph  T0-3277 2016-01-22  VACCINATIONS   \n",
       "1     9900  Southfield     Dior      Floyd  I2-7926 2016-05-28  VACCINATIONS   \n",
       "2     1070  Southfield  Biscuit  Velazquez  U8-6473 2016-07-10  VACCINATIONS   \n",
       "3     1070  Southfield  Biscuit  Velazquez  U8-6473 2016-08-19      GROOMING   \n",
       "4     1546  Southfield  Blackie       Blow  U6-4890 2016-10-19  VACCINATIONS   \n",
       "5     7846  Southfield    Scout     Warren  U4-9376 2016-12-10  VACCINATIONS   \n",
       "\n",
       "  subcode description  \n",
       "0      05      Rabies  \n",
       "1      05      Rabies  \n",
       "2      05      Rabies  \n",
       "3      01        Bath  \n",
       "4      05      Rabies  \n",
       "5      05      Rabies  "
      ]
     },
     "execution_count": 14,
     "metadata": {},
     "output_type": "execute_result"
    }
   ],
   "source": [
    "search()"
   ]
  },
  {
   "cell_type": "markdown",
   "metadata": {},
   "source": [
    "#### Поиск по дате обращения"
   ]
  },
  {
   "cell_type": "code",
   "execution_count": 30,
   "metadata": {},
   "outputs": [],
   "source": [
    "def search_date():\n",
    "    mi = \"\"\"SELECT history.date FROM vet_database.history\n",
    "            WHERE history.date = (SELECT MIN(history.date) FROM history)\"\"\"\n",
    "    \n",
    "    ma = \"\"\"SELECT history.date FROM vet_database.history\n",
    "            WHERE history.date = (SELECT MAX(history.date) FROM history)\"\"\"\n",
    "    \n",
    "    cur.execute(mi)\n",
    "    mi = cur.fetchone()['date']\n",
    "    cur.execute(ma)\n",
    "    ma = cur.fetchone()['date']\n",
    "    print('Самая ранняя дата: ', mi, '\\n', 'Самая поздняя дата: ', ma)\n",
    "    \n",
    "    try:\n",
    "        date = datetime.strptime(input('Введите дату в формате YYYY-MM-DD (например, 2016-02-05): '), '%Y-%m-%d')\n",
    "    except:\n",
    "        return 'Проверьте, правильно ли вы написали дату.'\n",
    "        \n",
    "    if date != '' and date >= mi and date <= ma:\n",
    "        date2 = input('Введите вторую границу временного отрезка в формате YYYY-MM-DD \\\n",
    "        (например, 2016-02-05) или нажмите Enter: ')\n",
    "        if date2:\n",
    "            try:\n",
    "                date2 = datetime.strptime(date2, '%Y-%m-%d')\n",
    "            except:\n",
    "                return 'Проверьте, правильно ли вы написали дату.'\n",
    "         \n",
    "            if date2 < date:\n",
    "                date2, date = date, date2\n",
    "           \n",
    "            query = f\"\"\"SELECT date, pet_id, type, subcode, description, price \n",
    "                        FROM history\n",
    "                        INNER JOIN details ON history.proc_id = details.id_proc\n",
    "                        WHERE date >= '{date}' AND date <= '{date2}'\"\"\"\n",
    "                                  \n",
    "        else:\n",
    "            first = input('Искать позже этой даты? \"да\" или \"нет\": ')\n",
    "            if first.lower() == 'да':\n",
    "                sign = '>='\n",
    "            else:\n",
    "                sign = '<='\n",
    "            \n",
    "            query = f\"\"\"SELECT date, pet_id, type, subcode, description, price \n",
    "                    FROM history\n",
    "                    INNER JOIN details ON history.proc_id = details.id_proc\n",
    "                    WHERE history.date {sign} '{date}'\"\"\"\n",
    "            print(query)\n",
    "    else:\n",
    "        return 'В этот день в поликлинике ничего не происходило.'\n",
    "                                  \n",
    "    try:\n",
    "        cur.execute(query)\n",
    "        result = cur.fetchall()\n",
    "        return pd.DataFrame(result)\n",
    "    except:\n",
    "        print('Проверьте, правильно ли вы ввели дату.')"
   ]
  },
  {
   "cell_type": "code",
   "execution_count": 31,
   "metadata": {},
   "outputs": [
    {
     "name": "stdout",
     "output_type": "stream",
     "text": [
      "Самая ранняя дата:  2016-01-10 00:00:00 \n",
      " Самая поздняя дата:  2016-12-31 00:00:00\n",
      "Введите дату в формате YYYY-MM-DD (например, 2016-02-05): 2016-09-12\n",
      "Введите вторую границу временного отрезка в формате YYYY-MM-DD         (например, 2016-02-05) или нажмите Enter: 2016-09-12\n"
     ]
    },
    {
     "data": {
      "text/html": [
       "<div>\n",
       "<style scoped>\n",
       "    .dataframe tbody tr th:only-of-type {\n",
       "        vertical-align: middle;\n",
       "    }\n",
       "\n",
       "    .dataframe tbody tr th {\n",
       "        vertical-align: top;\n",
       "    }\n",
       "\n",
       "    .dataframe thead th {\n",
       "        text-align: right;\n",
       "    }\n",
       "</style>\n",
       "<table border=\"1\" class=\"dataframe\">\n",
       "  <thead>\n",
       "    <tr style=\"text-align: right;\">\n",
       "      <th></th>\n",
       "      <th>date</th>\n",
       "      <th>pet_id</th>\n",
       "      <th>type</th>\n",
       "      <th>subcode</th>\n",
       "      <th>description</th>\n",
       "      <th>price</th>\n",
       "    </tr>\n",
       "  </thead>\n",
       "  <tbody>\n",
       "    <tr>\n",
       "      <td>0</td>\n",
       "      <td>2016-09-12</td>\n",
       "      <td>B1-7289</td>\n",
       "      <td>VACCINATIONS</td>\n",
       "      <td>05</td>\n",
       "      <td>Rabies</td>\n",
       "      <td>10</td>\n",
       "    </tr>\n",
       "    <tr>\n",
       "      <td>1</td>\n",
       "      <td>2016-09-12</td>\n",
       "      <td>D1-1113</td>\n",
       "      <td>GROOMING</td>\n",
       "      <td>03</td>\n",
       "      <td>Flea Spray</td>\n",
       "      <td>10</td>\n",
       "    </tr>\n",
       "    <tr>\n",
       "      <td>2</td>\n",
       "      <td>2016-09-12</td>\n",
       "      <td>C1-2139</td>\n",
       "      <td>GROOMING</td>\n",
       "      <td>03</td>\n",
       "      <td>Flea Spray</td>\n",
       "      <td>10</td>\n",
       "    </tr>\n",
       "  </tbody>\n",
       "</table>\n",
       "</div>"
      ],
      "text/plain": [
       "        date   pet_id          type subcode description  price\n",
       "0 2016-09-12  B1-7289  VACCINATIONS      05      Rabies     10\n",
       "1 2016-09-12  D1-1113      GROOMING      03  Flea Spray     10\n",
       "2 2016-09-12  C1-2139      GROOMING      03  Flea Spray     10"
      ]
     },
     "execution_count": 31,
     "metadata": {},
     "output_type": "execute_result"
    }
   ],
   "source": [
    "search_date()"
   ]
  },
  {
   "cell_type": "markdown",
   "metadata": {},
   "source": [
    "## Примеры более сложных запросов"
   ]
  },
  {
   "cell_type": "markdown",
   "metadata": {},
   "source": [
    "### SELECT с несколькими таблицами"
   ]
  },
  {
   "cell_type": "markdown",
   "metadata": {},
   "source": [
    "Такой запрос сводит информацию о владельце, питомце и процедурах из нескольких таблиц"
   ]
  },
  {
   "cell_type": "code",
   "execution_count": 32,
   "metadata": {},
   "outputs": [
    {
     "data": {
      "text/html": [
       "<div>\n",
       "<style scoped>\n",
       "    .dataframe tbody tr th:only-of-type {\n",
       "        vertical-align: middle;\n",
       "    }\n",
       "\n",
       "    .dataframe tbody tr th {\n",
       "        vertical-align: top;\n",
       "    }\n",
       "\n",
       "    .dataframe thead th {\n",
       "        text-align: right;\n",
       "    }\n",
       "</style>\n",
       "<table border=\"1\" class=\"dataframe\">\n",
       "  <thead>\n",
       "    <tr style=\"text-align: right;\">\n",
       "      <th></th>\n",
       "      <th>name</th>\n",
       "      <th>surname</th>\n",
       "      <th>date</th>\n",
       "      <th>description</th>\n",
       "    </tr>\n",
       "  </thead>\n",
       "  <tbody>\n",
       "    <tr>\n",
       "      <td>0</td>\n",
       "      <td>Humbert</td>\n",
       "      <td>Randolph</td>\n",
       "      <td>2016-01-22</td>\n",
       "      <td>Rabies</td>\n",
       "    </tr>\n",
       "    <tr>\n",
       "      <td>1</td>\n",
       "      <td>Jake</td>\n",
       "      <td>McKenzie</td>\n",
       "      <td>2016-01-29</td>\n",
       "      <td>Rabies</td>\n",
       "    </tr>\n",
       "    <tr>\n",
       "      <td>2</td>\n",
       "      <td>Cuddles</td>\n",
       "      <td>Peterson</td>\n",
       "      <td>2016-01-30</td>\n",
       "      <td>Pinning-I.M.</td>\n",
       "    </tr>\n",
       "    <tr>\n",
       "      <td>3</td>\n",
       "      <td>Bandit</td>\n",
       "      <td>Tea</td>\n",
       "      <td>2016-02-02</td>\n",
       "      <td>Rabies</td>\n",
       "    </tr>\n",
       "    <tr>\n",
       "      <td>4</td>\n",
       "      <td>Cuddles</td>\n",
       "      <td>Reed</td>\n",
       "      <td>2016-02-04</td>\n",
       "      <td>Rabies</td>\n",
       "    </tr>\n",
       "  </tbody>\n",
       "</table>\n",
       "</div>"
      ],
      "text/plain": [
       "      name   surname       date   description\n",
       "0  Humbert  Randolph 2016-01-22        Rabies\n",
       "1     Jake  McKenzie 2016-01-29        Rabies\n",
       "2  Cuddles  Peterson 2016-01-30  Pinning-I.M.\n",
       "3   Bandit       Tea 2016-02-02        Rabies\n",
       "4  Cuddles      Reed 2016-02-04        Rabies"
      ]
     },
     "execution_count": 32,
     "metadata": {},
     "output_type": "execute_result"
    }
   ],
   "source": [
    "query = \"\"\"SELECT owners.name, owners.surname, pets.name, history.date, details.description\n",
    "            FROM owners, pets, history, details\n",
    "            WHERE owners.owner_id = pets.owner_id\n",
    "            AND history.pet_id = pets.pet_id\n",
    "            AND history.proc_id = details.id_proc\"\"\"\n",
    "\n",
    "cur.execute(query)\n",
    "sample = cur.fetchmany(size=5)\n",
    "pd.DataFrame(sample)"
   ]
  },
  {
   "cell_type": "code",
   "execution_count": null,
   "metadata": {},
   "outputs": [],
   "source": []
  },
  {
   "cell_type": "markdown",
   "metadata": {},
   "source": [
    "### Вложенные SELECT"
   ]
  },
  {
   "cell_type": "markdown",
   "metadata": {},
   "source": [
    "Этот запрос выводит описание самой популярной процедуры, которую предлагают в клинике."
   ]
  },
  {
   "cell_type": "code",
   "execution_count": 25,
   "metadata": {},
   "outputs": [
    {
     "data": {
      "text/html": [
       "<div>\n",
       "<style scoped>\n",
       "    .dataframe tbody tr th:only-of-type {\n",
       "        vertical-align: middle;\n",
       "    }\n",
       "\n",
       "    .dataframe tbody tr th {\n",
       "        vertical-align: top;\n",
       "    }\n",
       "\n",
       "    .dataframe thead th {\n",
       "        text-align: right;\n",
       "    }\n",
       "</style>\n",
       "<table border=\"1\" class=\"dataframe\">\n",
       "  <thead>\n",
       "    <tr style=\"text-align: right;\">\n",
       "      <th></th>\n",
       "      <th>type</th>\n",
       "      <th>description</th>\n",
       "    </tr>\n",
       "  </thead>\n",
       "  <tbody>\n",
       "    <tr>\n",
       "      <td>0</td>\n",
       "      <td>VACCINATIONS</td>\n",
       "      <td>Rabies</td>\n",
       "    </tr>\n",
       "    <tr>\n",
       "      <td>1</td>\n",
       "      <td>GROOMING</td>\n",
       "      <td>Bath</td>\n",
       "    </tr>\n",
       "    <tr>\n",
       "      <td>2</td>\n",
       "      <td>GROOMING</td>\n",
       "      <td>Flea Spray</td>\n",
       "    </tr>\n",
       "    <tr>\n",
       "      <td>3</td>\n",
       "      <td>GENERAL SURGERIES</td>\n",
       "      <td>Declaw</td>\n",
       "    </tr>\n",
       "    <tr>\n",
       "      <td>4</td>\n",
       "      <td>VACCINATIONS</td>\n",
       "      <td>Galaxie (DHLPP)</td>\n",
       "    </tr>\n",
       "  </tbody>\n",
       "</table>\n",
       "</div>"
      ],
      "text/plain": [
       "                type      description\n",
       "0       VACCINATIONS           Rabies\n",
       "1           GROOMING             Bath\n",
       "2           GROOMING       Flea Spray\n",
       "3  GENERAL SURGERIES           Declaw\n",
       "4       VACCINATIONS  Galaxie (DHLPP)"
      ]
     },
     "execution_count": 25,
     "metadata": {},
     "output_type": "execute_result"
    }
   ],
   "source": [
    "query = \"\"\"SELECT details.type, details.description \n",
    "            FROM details \n",
    "            WHERE details.id_proc in \n",
    "            (SELECT proc_id FROM \n",
    "                    (SELECT proc_id, count(*) as topcount\n",
    "                    FROM vet_database.history, vet_database.details\n",
    "                    GROUP BY history.proc_id\n",
    "                    ORDER BY topcount DESC\n",
    "                    LIMIT 5) as foo)\"\"\"\n",
    "\n",
    "cur.execute(query)\n",
    "sample = cur.fetchmany(size=5)\n",
    "pd.DataFrame(sample)"
   ]
  },
  {
   "cell_type": "markdown",
   "metadata": {},
   "source": [
    "Этот запрос позволяет узнать, какие процедуры делались в первый день периода."
   ]
  },
  {
   "cell_type": "code",
   "execution_count": 26,
   "metadata": {},
   "outputs": [
    {
     "data": {
      "text/html": [
       "<div>\n",
       "<style scoped>\n",
       "    .dataframe tbody tr th:only-of-type {\n",
       "        vertical-align: middle;\n",
       "    }\n",
       "\n",
       "    .dataframe tbody tr th {\n",
       "        vertical-align: top;\n",
       "    }\n",
       "\n",
       "    .dataframe thead th {\n",
       "        text-align: right;\n",
       "    }\n",
       "</style>\n",
       "<table border=\"1\" class=\"dataframe\">\n",
       "  <thead>\n",
       "    <tr style=\"text-align: right;\">\n",
       "      <th></th>\n",
       "      <th>date</th>\n",
       "      <th>description</th>\n",
       "      <th>kind</th>\n",
       "    </tr>\n",
       "  </thead>\n",
       "  <tbody>\n",
       "    <tr>\n",
       "      <td>0</td>\n",
       "      <td>2016-01-10</td>\n",
       "      <td>Office Call</td>\n",
       "      <td>Dog</td>\n",
       "    </tr>\n",
       "    <tr>\n",
       "      <td>1</td>\n",
       "      <td>2016-01-10</td>\n",
       "      <td>Emergency</td>\n",
       "      <td>Dog</td>\n",
       "    </tr>\n",
       "    <tr>\n",
       "      <td>2</td>\n",
       "      <td>2016-01-10</td>\n",
       "      <td>Reck</td>\n",
       "      <td>Dog</td>\n",
       "    </tr>\n",
       "    <tr>\n",
       "      <td>3</td>\n",
       "      <td>2016-01-10</td>\n",
       "      <td>Bath</td>\n",
       "      <td>Dog</td>\n",
       "    </tr>\n",
       "    <tr>\n",
       "      <td>4</td>\n",
       "      <td>2016-01-10</td>\n",
       "      <td>Flea Dip</td>\n",
       "      <td>Dog</td>\n",
       "    </tr>\n",
       "  </tbody>\n",
       "</table>\n",
       "</div>"
      ],
      "text/plain": [
       "        date  description kind\n",
       "0 2016-01-10  Office Call  Dog\n",
       "1 2016-01-10    Emergency  Dog\n",
       "2 2016-01-10         Reck  Dog\n",
       "3 2016-01-10         Bath  Dog\n",
       "4 2016-01-10     Flea Dip  Dog"
      ]
     },
     "execution_count": 26,
     "metadata": {},
     "output_type": "execute_result"
    }
   ],
   "source": [
    "query = \"\"\"SELECT history.date, details.description, pets.kind\n",
    "            FROM history, details, pets\n",
    "            WHERE history.date = \n",
    "            (SELECT MIN(history.date) \n",
    "            FROM history)\"\"\"\n",
    "\n",
    "cur.execute(query)\n",
    "sample = cur.fetchmany(size=5)\n",
    "pd.DataFrame(sample)"
   ]
  },
  {
   "cell_type": "markdown",
   "metadata": {},
   "source": [
    "### Запросы с JOIN"
   ]
  },
  {
   "cell_type": "markdown",
   "metadata": {},
   "source": [
    "Здесь можно посмотреть клиентов, которые потратили больше всего денег в поликлинике."
   ]
  },
  {
   "cell_type": "code",
   "execution_count": 16,
   "metadata": {},
   "outputs": [
    {
     "data": {
      "text/html": [
       "<div>\n",
       "<style scoped>\n",
       "    .dataframe tbody tr th:only-of-type {\n",
       "        vertical-align: middle;\n",
       "    }\n",
       "\n",
       "    .dataframe tbody tr th {\n",
       "        vertical-align: top;\n",
       "    }\n",
       "\n",
       "    .dataframe thead th {\n",
       "        text-align: right;\n",
       "    }\n",
       "</style>\n",
       "<table border=\"1\" class=\"dataframe\">\n",
       "  <thead>\n",
       "    <tr style=\"text-align: right;\">\n",
       "      <th></th>\n",
       "      <th>owner_id</th>\n",
       "      <th>name</th>\n",
       "      <th>surname</th>\n",
       "      <th>date</th>\n",
       "      <th>money</th>\n",
       "    </tr>\n",
       "  </thead>\n",
       "  <tbody>\n",
       "    <tr>\n",
       "      <td>0</td>\n",
       "      <td>8316</td>\n",
       "      <td>Bruce</td>\n",
       "      <td>Fay</td>\n",
       "      <td>2016-10-22</td>\n",
       "      <td>450</td>\n",
       "    </tr>\n",
       "    <tr>\n",
       "      <td>1</td>\n",
       "      <td>5806</td>\n",
       "      <td>Cookie</td>\n",
       "      <td>Reyna</td>\n",
       "      <td>2016-08-02</td>\n",
       "      <td>400</td>\n",
       "    </tr>\n",
       "    <tr>\n",
       "      <td>2</td>\n",
       "      <td>7579</td>\n",
       "      <td>Cuddles</td>\n",
       "      <td>Peterson</td>\n",
       "      <td>2016-01-30</td>\n",
       "      <td>325</td>\n",
       "    </tr>\n",
       "    <tr>\n",
       "      <td>3</td>\n",
       "      <td>1915</td>\n",
       "      <td>Rumba</td>\n",
       "      <td>Bowers</td>\n",
       "      <td>2016-12-01</td>\n",
       "      <td>305</td>\n",
       "    </tr>\n",
       "    <tr>\n",
       "      <td>4</td>\n",
       "      <td>7581</td>\n",
       "      <td>Vuitton</td>\n",
       "      <td>Nolen</td>\n",
       "      <td>2016-03-18</td>\n",
       "      <td>185</td>\n",
       "    </tr>\n",
       "  </tbody>\n",
       "</table>\n",
       "</div>"
      ],
      "text/plain": [
       "  owner_id     name   surname       date money\n",
       "0     8316    Bruce       Fay 2016-10-22   450\n",
       "1     5806   Cookie     Reyna 2016-08-02   400\n",
       "2     7579  Cuddles  Peterson 2016-01-30   325\n",
       "3     1915    Rumba    Bowers 2016-12-01   305\n",
       "4     7581  Vuitton     Nolen 2016-03-18   185"
      ]
     },
     "execution_count": 16,
     "metadata": {},
     "output_type": "execute_result"
    }
   ],
   "source": [
    "query = \"\"\"SELECT owners.owner_id, owners.name, owners.surname, pets.name, history.date, SUM(details.price) as money\n",
    "FROM vet_database.owners\n",
    "INNER JOIN vet_database.pets ON pets.owner_id = owners.owner_id\n",
    "INNER JOIN vet_database.history ON history.pet_id = pets.pet_id\n",
    "INNER JOIN vet_database.details ON details.id_proc = history.proc_id\n",
    "GROUP BY owners.owner_id\n",
    "ORDER BY money DESC\"\"\"\n",
    "\n",
    "cur.execute(query)\n",
    "sample = cur.fetchmany(size=5)\n",
    "pd.DataFrame(sample)"
   ]
  },
  {
   "cell_type": "markdown",
   "metadata": {},
   "source": [
    "Этим запросом можно получить информацию о том, каким из животных в выбранном городе проводилась вакцинация."
   ]
  },
  {
   "cell_type": "code",
   "execution_count": 19,
   "metadata": {},
   "outputs": [
    {
     "data": {
      "text/html": [
       "<div>\n",
       "<style scoped>\n",
       "    .dataframe tbody tr th:only-of-type {\n",
       "        vertical-align: middle;\n",
       "    }\n",
       "\n",
       "    .dataframe tbody tr th {\n",
       "        vertical-align: top;\n",
       "    }\n",
       "\n",
       "    .dataframe thead th {\n",
       "        text-align: right;\n",
       "    }\n",
       "</style>\n",
       "<table border=\"1\" class=\"dataframe\">\n",
       "  <thead>\n",
       "    <tr style=\"text-align: right;\">\n",
       "      <th></th>\n",
       "      <th>pet_id</th>\n",
       "      <th>name</th>\n",
       "      <th>kind</th>\n",
       "      <th>type</th>\n",
       "      <th>city</th>\n",
       "    </tr>\n",
       "  </thead>\n",
       "  <tbody>\n",
       "    <tr>\n",
       "      <td>0</td>\n",
       "      <td>T0-3277</td>\n",
       "      <td>Humbert</td>\n",
       "      <td>Cat</td>\n",
       "      <td>VACCINATIONS</td>\n",
       "      <td>Southfield</td>\n",
       "    </tr>\n",
       "    <tr>\n",
       "      <td>1</td>\n",
       "      <td>I2-7926</td>\n",
       "      <td>Dior</td>\n",
       "      <td>Parrot</td>\n",
       "      <td>VACCINATIONS</td>\n",
       "      <td>Southfield</td>\n",
       "    </tr>\n",
       "    <tr>\n",
       "      <td>2</td>\n",
       "      <td>U8-6473</td>\n",
       "      <td>Biscuit</td>\n",
       "      <td>Dog</td>\n",
       "      <td>VACCINATIONS</td>\n",
       "      <td>Southfield</td>\n",
       "    </tr>\n",
       "    <tr>\n",
       "      <td>3</td>\n",
       "      <td>U6-4890</td>\n",
       "      <td>Blackie</td>\n",
       "      <td>Dog</td>\n",
       "      <td>VACCINATIONS</td>\n",
       "      <td>Southfield</td>\n",
       "    </tr>\n",
       "    <tr>\n",
       "      <td>4</td>\n",
       "      <td>U4-9376</td>\n",
       "      <td>Scout</td>\n",
       "      <td>Dog</td>\n",
       "      <td>VACCINATIONS</td>\n",
       "      <td>Southfield</td>\n",
       "    </tr>\n",
       "  </tbody>\n",
       "</table>\n",
       "</div>"
      ],
      "text/plain": [
       "    pet_id     name    kind          type        city\n",
       "0  T0-3277  Humbert     Cat  VACCINATIONS  Southfield\n",
       "1  I2-7926     Dior  Parrot  VACCINATIONS  Southfield\n",
       "2  U8-6473  Biscuit     Dog  VACCINATIONS  Southfield\n",
       "3  U6-4890  Blackie     Dog  VACCINATIONS  Southfield\n",
       "4  U4-9376    Scout     Dog  VACCINATIONS  Southfield"
      ]
     },
     "execution_count": 19,
     "metadata": {},
     "output_type": "execute_result"
    }
   ],
   "source": [
    "query = \"\"\"SELECT pets.pet_id, pets.name, pets.kind, details.type, owners.city \n",
    "            FROM vet_database.pets\n",
    "            INNER JOIN vet_database.owners ON owners.owner_id = pets.owner_id\n",
    "            INNER JOIN vet_database.history ON history.pet_id = pets.pet_id\n",
    "            INNER JOIN vet_database.details ON details.id_proc = history.proc_id\n",
    "            WHERE details.type = 'VACCINATIONS' \n",
    "            AND owners.city = 'Southfield'\"\"\"\n",
    "\n",
    "cur.execute(query)\n",
    "sample = cur.fetchmany(size=5)\n",
    "pd.DataFrame(sample)"
   ]
  },
  {
   "cell_type": "markdown",
   "metadata": {},
   "source": [
    "Этим запросом можно вывести информацию об истории лечения для каждого животного."
   ]
  },
  {
   "cell_type": "code",
   "execution_count": 20,
   "metadata": {},
   "outputs": [
    {
     "data": {
      "text/html": [
       "<div>\n",
       "<style scoped>\n",
       "    .dataframe tbody tr th:only-of-type {\n",
       "        vertical-align: middle;\n",
       "    }\n",
       "\n",
       "    .dataframe tbody tr th {\n",
       "        vertical-align: top;\n",
       "    }\n",
       "\n",
       "    .dataframe thead th {\n",
       "        text-align: right;\n",
       "    }\n",
       "</style>\n",
       "<table border=\"1\" class=\"dataframe\">\n",
       "  <thead>\n",
       "    <tr style=\"text-align: right;\">\n",
       "      <th></th>\n",
       "      <th>owner_id</th>\n",
       "      <th>city</th>\n",
       "      <th>name</th>\n",
       "      <th>surname</th>\n",
       "      <th>pet_id</th>\n",
       "      <th>date</th>\n",
       "      <th>type</th>\n",
       "      <th>subcode</th>\n",
       "      <th>description</th>\n",
       "    </tr>\n",
       "  </thead>\n",
       "  <tbody>\n",
       "    <tr>\n",
       "      <td>0</td>\n",
       "      <td>8133</td>\n",
       "      <td>Southfield</td>\n",
       "      <td>Humbert</td>\n",
       "      <td>Randolph</td>\n",
       "      <td>T0-3277</td>\n",
       "      <td>2016-01-22</td>\n",
       "      <td>VACCINATIONS</td>\n",
       "      <td>05</td>\n",
       "      <td>Rabies</td>\n",
       "    </tr>\n",
       "    <tr>\n",
       "      <td>1</td>\n",
       "      <td>3089</td>\n",
       "      <td>Marquette</td>\n",
       "      <td>Jake</td>\n",
       "      <td>McKenzie</td>\n",
       "      <td>G6-6501</td>\n",
       "      <td>2016-01-29</td>\n",
       "      <td>VACCINATIONS</td>\n",
       "      <td>05</td>\n",
       "      <td>Rabies</td>\n",
       "    </tr>\n",
       "    <tr>\n",
       "      <td>2</td>\n",
       "      <td>7579</td>\n",
       "      <td>Ann Arbor</td>\n",
       "      <td>Cuddles</td>\n",
       "      <td>Peterson</td>\n",
       "      <td>P9-3625</td>\n",
       "      <td>2016-01-30</td>\n",
       "      <td>ORTHOPEDIC</td>\n",
       "      <td>07</td>\n",
       "      <td>Pinning-I.M.</td>\n",
       "    </tr>\n",
       "    <tr>\n",
       "      <td>3</td>\n",
       "      <td>9604</td>\n",
       "      <td>Roseville</td>\n",
       "      <td>Bandit</td>\n",
       "      <td>Tea</td>\n",
       "      <td>F1-1855</td>\n",
       "      <td>2016-02-02</td>\n",
       "      <td>VACCINATIONS</td>\n",
       "      <td>05</td>\n",
       "      <td>Rabies</td>\n",
       "    </tr>\n",
       "    <tr>\n",
       "      <td>4</td>\n",
       "      <td>5447</td>\n",
       "      <td>Lansing</td>\n",
       "      <td>Cuddles</td>\n",
       "      <td>Reed</td>\n",
       "      <td>S1-2243</td>\n",
       "      <td>2016-02-04</td>\n",
       "      <td>VACCINATIONS</td>\n",
       "      <td>05</td>\n",
       "      <td>Rabies</td>\n",
       "    </tr>\n",
       "  </tbody>\n",
       "</table>\n",
       "</div>"
      ],
      "text/plain": [
       "  owner_id        city     name   surname   pet_id       date          type  \\\n",
       "0     8133  Southfield  Humbert  Randolph  T0-3277 2016-01-22  VACCINATIONS   \n",
       "1     3089   Marquette     Jake  McKenzie  G6-6501 2016-01-29  VACCINATIONS   \n",
       "2     7579   Ann Arbor  Cuddles  Peterson  P9-3625 2016-01-30    ORTHOPEDIC   \n",
       "3     9604   Roseville   Bandit       Tea  F1-1855 2016-02-02  VACCINATIONS   \n",
       "4     5447     Lansing  Cuddles      Reed  S1-2243 2016-02-04  VACCINATIONS   \n",
       "\n",
       "  subcode   description  \n",
       "0      05        Rabies  \n",
       "1      05        Rabies  \n",
       "2      07  Pinning-I.M.  \n",
       "3      05        Rabies  \n",
       "4      05        Rabies  "
      ]
     },
     "execution_count": 20,
     "metadata": {},
     "output_type": "execute_result"
    }
   ],
   "source": [
    "query = \"\"\"SELECT owners.owner_id, owners.city, owners.name, owners.surname, \n",
    "            pets.pet_id, pets.name, \n",
    "            history.date, details.type, details.subcode, details.description \n",
    "            FROM vet_database.owners \n",
    "            INNER JOIN vet_database.pets ON pets.owner_id = owners.owner_id\n",
    "            INNER JOIN vet_database.history ON history.pet_id = pets.pet_id\n",
    "            INNER JOIN vet_database.details ON details.id_proc = history.proc_id\"\"\"\n",
    "\n",
    "cur.execute(query)\n",
    "sample = cur.fetchmany(size=5)\n",
    "pd.DataFrame(sample)"
   ]
  },
  {
   "cell_type": "code",
   "execution_count": null,
   "metadata": {},
   "outputs": [],
   "source": []
  }
 ],
 "metadata": {
  "kernelspec": {
   "display_name": "Python 3",
   "language": "python",
   "name": "python3"
  },
  "language_info": {
   "codemirror_mode": {
    "name": "ipython",
    "version": 3
   },
   "file_extension": ".py",
   "mimetype": "text/x-python",
   "name": "python",
   "nbconvert_exporter": "python",
   "pygments_lexer": "ipython3",
   "version": "3.7.3"
  }
 },
 "nbformat": 4,
 "nbformat_minor": 2
}
