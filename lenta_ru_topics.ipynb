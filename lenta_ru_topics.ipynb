{
  "cells": [
    {
      "cell_type": "markdown",
      "metadata": {
        "id": "view-in-github",
        "colab_type": "text"
      },
      "source": [
        "<a href=\"https://colab.research.google.com/github/vydra-v-getrax/training-projects/blob/master/lenta_ru_topics.ipynb\" target=\"_parent\"><img src=\"https://colab.research.google.com/assets/colab-badge.svg\" alt=\"Open In Colab\"/></a>"
      ]
    },
    {
      "cell_type": "markdown",
      "source": [
        "#Импорты и загрузка данных"
      ],
      "metadata": {
        "id": "O4k0Xafx6zZ9"
      }
    },
    {
      "cell_type": "code",
      "execution_count": 2,
      "metadata": {
        "id": "DEq10FrJ_dbg",
        "colab": {
          "base_uri": "https://localhost:8080/"
        },
        "outputId": "cbcd9245-078c-4331-e68f-5ba20a66a68b"
      },
      "outputs": [
        {
          "output_type": "stream",
          "name": "stdout",
          "text": [
            "Drive already mounted at /content/drive; to attempt to forcibly remount, call drive.mount(\"/content/drive\", force_remount=True).\n"
          ]
        }
      ],
      "source": [
        "from google.colab import drive\n",
        "drive.mount('/content/drive')"
      ]
    },
    {
      "cell_type": "code",
      "execution_count": null,
      "metadata": {
        "colab": {
          "base_uri": "https://localhost:8080/"
        },
        "id": "_vou1yxZ_iXk",
        "outputId": "31b2fb6e-442c-4bc6-bf64-5f777fe8bb44"
      },
      "outputs": [
        {
          "name": "stdout",
          "output_type": "stream",
          "text": [
            "Archive:  /content/drive/MyDrive/lenta-ru-news_19-21_raw.zip\n",
            "  inflating: /content/drive/MyDrive/lenta_news/lenta-ru-news_19-21_raw.csv  \n"
          ]
        }
      ],
      "source": [
        "!unzip '/content/drive/MyDrive/lenta-ru-news_19-21_raw.zip' -d '/content/drive/MyDrive/lenta_news'"
      ]
    },
    {
      "cell_type": "code",
      "execution_count": 3,
      "metadata": {
        "id": "smEB36TBLgNs"
      },
      "outputs": [],
      "source": [
        "filepath = '/content/drive/MyDrive/lenta_news/lenta-ru-news_19-21_raw.csv'\n",
        "folderpath = '/content/drive/MyDrive/lenta_news'"
      ]
    },
    {
      "cell_type": "code",
      "execution_count": 1,
      "metadata": {
        "colab": {
          "base_uri": "https://localhost:8080/"
        },
        "id": "fC5nXKIEArQk",
        "outputId": "7056b0e6-b010-4e87-be02-c524da0dcb18"
      },
      "outputs": [
        {
          "output_type": "stream",
          "name": "stdout",
          "text": [
            "Requirement already satisfied: pymorphy2 in /usr/local/lib/python3.7/dist-packages (0.9.1)\n",
            "Requirement already satisfied: docopt>=0.6 in /usr/local/lib/python3.7/dist-packages (from pymorphy2) (0.6.2)\n",
            "Requirement already satisfied: pymorphy2-dicts-ru<3.0,>=2.4 in /usr/local/lib/python3.7/dist-packages (from pymorphy2) (2.4.417127.4579844)\n",
            "Requirement already satisfied: dawg-python>=0.7.1 in /usr/local/lib/python3.7/dist-packages (from pymorphy2) (0.7.2)\n",
            "Requirement already satisfied: razdel in /usr/local/lib/python3.7/dist-packages (0.5.0)\n",
            "[nltk_data] Downloading package stopwords to /root/nltk_data...\n",
            "[nltk_data]   Package stopwords is already up-to-date!\n",
            "Requirement already satisfied: python-rake in /usr/local/lib/python3.7/dist-packages (1.5.0)\n"
          ]
        },
        {
          "output_type": "stream",
          "name": "stderr",
          "text": [
            "/usr/local/lib/python3.7/dist-packages/past/types/oldstr.py:5: DeprecationWarning: Using or importing the ABCs from 'collections' instead of from 'collections.abc' is deprecated since Python 3.3,and in 3.9 it will stop working\n",
            "  from collections import Iterable\n"
          ]
        }
      ],
      "source": [
        "import pandas as pd\n",
        "import numpy as np\n",
        "import os\n",
        "from time import time\n",
        "from tqdm.auto import tqdm\n",
        "tqdm.pandas()\n",
        "\n",
        "!pip install pymorphy2\n",
        "from pymorphy2 import MorphAnalyzer\n",
        "from string import punctuation\n",
        "import re\n",
        "from nltk.corpus import stopwords\n",
        "import nltk\n",
        "nltk.download(\"stopwords\")\n",
        "\n",
        "# библиотека для токенизации текстов\n",
        "!pip install razdel\n",
        "from razdel import tokenize, sentenize\n",
        "\n",
        "# для извлечения темы\n",
        "import gensim\n",
        "from gensim import matutils\n",
        "from gensim.models.ldamodel import LdaModel\n",
        "from sklearn.feature_extraction.text import CountVectorizer\n",
        "from scipy.sparse import csc\n",
        "\n",
        "from gensim.summarization import keywords as kw\n",
        "\n",
        "\n",
        "import warnings\n",
        "warnings.filterwarnings(\"ignore\")"
      ]
    },
    {
      "cell_type": "code",
      "execution_count": 104,
      "metadata": {
        "id": "AB42hlSkAzr6"
      },
      "outputs": [],
      "source": [
        "data = pd.read_csv(filepath, index_col=0)"
      ]
    },
    {
      "cell_type": "code",
      "execution_count": 106,
      "metadata": {
        "colab": {
          "base_uri": "https://localhost:8080/",
          "height": 224
        },
        "id": "qOtpMQTfBK6E",
        "outputId": "a4980fcd-147c-4132-b605-e39f3393294e"
      },
      "outputs": [
        {
          "output_type": "execute_result",
          "data": {
            "text/html": [
              "<div>\n",
              "<style scoped>\n",
              "    .dataframe tbody tr th:only-of-type {\n",
              "        vertical-align: middle;\n",
              "    }\n",
              "\n",
              "    .dataframe tbody tr th {\n",
              "        vertical-align: top;\n",
              "    }\n",
              "\n",
              "    .dataframe thead th {\n",
              "        text-align: right;\n",
              "    }\n",
              "</style>\n",
              "<table border=\"1\" class=\"dataframe\">\n",
              "  <thead>\n",
              "    <tr style=\"text-align: right;\">\n",
              "      <th></th>\n",
              "      <th>url</th>\n",
              "      <th>title</th>\n",
              "      <th>text</th>\n",
              "    </tr>\n",
              "  </thead>\n",
              "  <tbody>\n",
              "    <tr>\n",
              "      <th>0</th>\n",
              "      <td>https://lenta.ru/news/2019/01/01/film/</td>\n",
              "      <td>Назван главный российский фильм 2018 года</td>\n",
              "      <td>Президент Гильдии киноведов и кинокритиков России Кирилл Разлогов назвал главный российский филь...</td>\n",
              "    </tr>\n",
              "    <tr>\n",
              "      <th>1</th>\n",
              "      <td>https://lenta.ru/news/2019/01/01/zelenskiy/</td>\n",
              "      <td>Украинский комик поборется за президентский пост</td>\n",
              "      <td>Ведущий украинского комедийного шоу «Вечерний квартал» Владимир Зеленский примет участие в прези...</td>\n",
              "    </tr>\n",
              "    <tr>\n",
              "      <th>2</th>\n",
              "      <td>https://lenta.ru/news/2019/01/01/xvii_century/</td>\n",
              "      <td>Киевских политиков обвинили в попытке вернуть страну в XVII век</td>\n",
              "      <td>Бывший президент Украины Виктор Ющенко назвал обещания киевских политиков снизить цены на газ по...</td>\n",
              "    </tr>\n",
              "    <tr>\n",
              "      <th>3</th>\n",
              "      <td>https://lenta.ru/news/2019/01/01/klimkin/</td>\n",
              "      <td>Климкин погрустнел из-за советских фильмов</td>\n",
              "      <td>Министр иностранных дел Украины Павел Климкин расстроился из-за большого количества советских фи...</td>\n",
              "    </tr>\n",
              "    <tr>\n",
              "      <th>4</th>\n",
              "      <td>https://lenta.ru/news/2019/01/01/otsenka/</td>\n",
              "      <td>Уточнено число пропавших после обрушения дома в Магнитогорске</td>\n",
              "      <td>ГУ МЧС по Челябинской области уточнило число пропавших людей после обрушения подъезда дома в Маг...</td>\n",
              "    </tr>\n",
              "  </tbody>\n",
              "</table>\n",
              "</div>"
            ],
            "text/plain": [
              "                                              url  ...                                                                                                 text\n",
              "0          https://lenta.ru/news/2019/01/01/film/  ...  Президент Гильдии киноведов и кинокритиков России Кирилл Разлогов назвал главный российский филь...\n",
              "1     https://lenta.ru/news/2019/01/01/zelenskiy/  ...  Ведущий украинского комедийного шоу «Вечерний квартал» Владимир Зеленский примет участие в прези...\n",
              "2  https://lenta.ru/news/2019/01/01/xvii_century/  ...  Бывший президент Украины Виктор Ющенко назвал обещания киевских политиков снизить цены на газ по...\n",
              "3       https://lenta.ru/news/2019/01/01/klimkin/  ...  Министр иностранных дел Украины Павел Климкин расстроился из-за большого количества советских фи...\n",
              "4       https://lenta.ru/news/2019/01/01/otsenka/  ...  ГУ МЧС по Челябинской области уточнило число пропавших людей после обрушения подъезда дома в Маг...\n",
              "\n",
              "[5 rows x 3 columns]"
            ]
          },
          "metadata": {},
          "execution_count": 106
        }
      ],
      "source": [
        "data.head()"
      ]
    },
    {
      "cell_type": "markdown",
      "source": [
        "#Подготовка данных"
      ],
      "metadata": {
        "id": "tbvzWF9rE8UH"
      }
    },
    {
      "cell_type": "code",
      "source": [
        "data['dt'] = data.url.apply(lambda x: x.split('/')[5] + '.' + x.split('/')[4])\n",
        "data.dt.unique()"
      ],
      "metadata": {
        "id": "VNW5IcC8CoWG"
      },
      "execution_count": null,
      "outputs": []
    },
    {
      "cell_type": "code",
      "execution_count": null,
      "metadata": {
        "id": "eeiV8ITCQyko"
      },
      "outputs": [],
      "source": [
        "data.fillna('', inplace=True)"
      ]
    },
    {
      "cell_type": "code",
      "execution_count": 108,
      "metadata": {
        "id": "x6iiZ-FtdIlE"
      },
      "outputs": [],
      "source": [
        "# Для загрузки после промежуточного сохранения:\n",
        "\n",
        "# data = pd.read_pickle(os.path.join(folderpath, 'data.pkl'))"
      ]
    },
    {
      "cell_type": "code",
      "execution_count": null,
      "metadata": {
        "id": "AnBaCoyVMtwI"
      },
      "outputs": [],
      "source": [
        "# функция для лемматизации и удаления пунктуации и стоп-слов\n",
        "morph = MorphAnalyzer()\n",
        "russian_stopwords = stopwords.words(\"russian\")\n",
        "\n",
        "def preprocess(text):\n",
        "    tokens = tokenize(text.lower())\n",
        "    tokens = [token.text for token in tokens \n",
        "              if token.text not in punctuation + '«»...–—!?' \n",
        "              and token.text not in russian_stopwords]\n",
        "    lemmas = [morph.parse(token)[0].normal_form for token in tokens]\n",
        "    return ' '.join(lemmas)"
      ]
    },
    {
      "cell_type": "code",
      "execution_count": null,
      "metadata": {
        "colab": {
          "base_uri": "https://localhost:8080/",
          "height": 49,
          "referenced_widgets": [
            "0387f6893fd049499cbc87c3d2bd7566",
            "629870cecaa54ef6a3918c2265e0c533",
            "3d681d88eb52438f8abacaf8af12c8f1",
            "afcd622ed2794aeabc3b32c75ab32ee1",
            "6a217158cf8e4f5da8e1176a0ebb113f",
            "d06f03fd1a684b2faea28e74e8ed0464",
            "ac35037849bd4f3085b6a5403a263614",
            "115b7833995549ed88da643bce279eea",
            "c314f68eb1ba467285f1d48ec7bb17c8",
            "b6aa0c6b305d48a0bef123a867ab9d64",
            "62e46f5256dc4660909f2439044f2553"
          ]
        },
        "id": "mTMSU-XiM0Jo",
        "outputId": "a3abbaa0-abb4-4dd0-82d2-8b7be387131c"
      },
      "outputs": [
        {
          "data": {
            "application/vnd.jupyter.widget-view+json": {
              "model_id": "0387f6893fd049499cbc87c3d2bd7566",
              "version_major": 2,
              "version_minor": 0
            },
            "text/plain": [
              "  0%|          | 0/29650 [00:00<?, ?it/s]"
            ]
          },
          "metadata": {},
          "output_type": "display_data"
        }
      ],
      "source": [
        "data['lemmas'] = data.title.progress_apply(preprocess)"
      ]
    },
    {
      "cell_type": "code",
      "execution_count": null,
      "metadata": {
        "colab": {
          "base_uri": "https://localhost:8080/",
          "height": 49,
          "referenced_widgets": [
            "42b39134ba6840568613663b04881f31",
            "18beb907e2364294888f88a8092b7a83",
            "eecd436241c74bffa8d857b6c6ae9319",
            "a000f134d4554cce88aa03e06fbde9cb",
            "b0cc76f979b84c96818e218728e9feba",
            "4f2e09ee882c49cb8d70b8ea18c0281e",
            "ce1e74f1fd7049e2b12ddd4f17713227",
            "21e26aa84a4d4e52a151917a9d42f74c",
            "39c8b8e98f5344e2a1580b94252b45ce",
            "e2e63e19b55a4f7d90169cee27cc6ec1",
            "cfda609d4b464f308f71b3a6725b3f12"
          ]
        },
        "id": "TEQJeZZPQHgx",
        "outputId": "c056db15-8e72-4ae8-f291-c9abd4970a2c"
      },
      "outputs": [
        {
          "data": {
            "application/vnd.jupyter.widget-view+json": {
              "model_id": "42b39134ba6840568613663b04881f31",
              "version_major": 2,
              "version_minor": 0
            },
            "text/plain": [
              "  0%|          | 0/29650 [00:00<?, ?it/s]"
            ]
          },
          "metadata": {},
          "output_type": "display_data"
        }
      ],
      "source": [
        "data['text_lemmas'] = data.text.progress_apply(preprocess)"
      ]
    },
    {
      "cell_type": "code",
      "execution_count": 49,
      "metadata": {
        "id": "TxQJep7BLaIL"
      },
      "outputs": [],
      "source": [
        "# промежуточное сохранение\n",
        "# data.to_pickle(os.path.join(folderpath, 'data.pkl'))"
      ]
    },
    {
      "cell_type": "markdown",
      "source": [
        "#Выделение тем"
      ],
      "metadata": {
        "id": "ihpEp1IlE1Y2"
      }
    },
    {
      "cell_type": "markdown",
      "source": [
        "Будем выделять ключевые слова из каждого текста методом TextRank. Для каждого слова строится граф совместной встречаемости с другими словами, узлы с наибольшими весами становятся ключевыми словами. Можно воспользоваться реализацией библиоткеи gensim.\n",
        "Будем оставлять только существительные, глаголы и прилагательные, как наиболее \"важные\" части речи. \n",
        "\n",
        "Сначала я пробовала выделять слова только из заголовков, но получается мало информативно. Обработка всех текстов заняла около 20 минут."
      ],
      "metadata": {
        "id": "ZQ0wZYeTFEEF"
      }
    },
    {
      "cell_type": "code",
      "source": [
        "data['kw_textrank'] = data.text_lemmas.apply(lambda x: kw(x, pos_filter=('NN', 'VV', 'JJ')).split('\\n'))"
      ],
      "metadata": {
        "id": "YZrUXwWK8Z5a"
      },
      "execution_count": 20,
      "outputs": []
    },
    {
      "cell_type": "code",
      "source": [
        "print(\"Пример выделенных ключевых слов:\")\n",
        "data.kw_textrank[0]\n",
        "#получается довольно чисто и красиво"
      ],
      "metadata": {
        "colab": {
          "base_uri": "https://localhost:8080/"
        },
        "id": "PxJa0i4SImRH",
        "outputId": "e770a11a-d49d-470d-bc0b-bcf580ef88d5"
      },
      "execution_count": 112,
      "outputs": [
        {
          "output_type": "stream",
          "name": "stdout",
          "text": [
            "Пример выделенных ключевых слов:\n"
          ]
        },
        {
          "output_type": "execute_result",
          "data": {
            "text/plain": [
              "['год',\n",
              " 'россиискии фильм',\n",
              " 'разлогов',\n",
              " 'стать картина',\n",
              " 'премия оскар',\n",
              " 'гильдия',\n",
              " 'главныи',\n",
              " 'хорошии',\n",
              " 'кинокритик',\n",
              " 'движение',\n",
              " 'тренер добавить',\n",
              " 'билборд граница',\n",
              " 'составить']"
            ]
          },
          "metadata": {},
          "execution_count": 112
        }
      ]
    },
    {
      "cell_type": "markdown",
      "source": [
        "Сгруппируем тексты по месяцу новости"
      ],
      "metadata": {
        "id": "R1xhJsmnJn9S"
      }
    },
    {
      "cell_type": "code",
      "execution_count": 7,
      "metadata": {
        "id": "ULwFQIWHTnp5"
      },
      "outputs": [],
      "source": [
        "gr = data.groupby('dt').agg({'kw_textrank': list, 'kw_titles': lambda x: ' '.join(x)})"
      ]
    },
    {
      "cell_type": "code",
      "execution_count": 29,
      "metadata": {
        "id": "gtqlrJvZVAaZ"
      },
      "outputs": [],
      "source": [
        "gr['kw_text'] = gr.kw_textrank.apply(lambda x: [' '.join(s) for s in x])"
      ]
    },
    {
      "cell_type": "code",
      "execution_count": 114,
      "metadata": {
        "colab": {
          "base_uri": "https://localhost:8080/",
          "height": 238
        },
        "id": "dQlah4FrP9rR",
        "outputId": "750ad493-bb21-4206-b9eb-2fdd0bf22cbf"
      },
      "outputs": [
        {
          "output_type": "execute_result",
          "data": {
            "text/html": [
              "<div>\n",
              "<style scoped>\n",
              "    .dataframe tbody tr th:only-of-type {\n",
              "        vertical-align: middle;\n",
              "    }\n",
              "\n",
              "    .dataframe tbody tr th {\n",
              "        vertical-align: top;\n",
              "    }\n",
              "\n",
              "    .dataframe thead th {\n",
              "        text-align: right;\n",
              "    }\n",
              "</style>\n",
              "<table border=\"1\" class=\"dataframe\">\n",
              "  <thead>\n",
              "    <tr style=\"text-align: right;\">\n",
              "      <th></th>\n",
              "      <th>kw_textrank</th>\n",
              "      <th>kw_text</th>\n",
              "    </tr>\n",
              "    <tr>\n",
              "      <th>dt</th>\n",
              "      <th></th>\n",
              "      <th></th>\n",
              "    </tr>\n",
              "  </thead>\n",
              "  <tbody>\n",
              "    <tr>\n",
              "      <th>01.2019</th>\n",
              "      <td>[[год, россиискии фильм, разлогов, стать картина, премия оскар, гильдия, главныи, хорошии, кинок...</td>\n",
              "      <td>[год россиискии фильм разлогов стать картина премия оскар гильдия главныи хорошии кинокритик дви...</td>\n",
              "    </tr>\n",
              "    <tr>\n",
              "      <th>01.2020</th>\n",
              "      <td>[[мрот, размер, рубль, год, декабрь, путин, которыи, налог, закон, ниже], [маска, рогозин заявит...</td>\n",
              "      <td>[мрот размер рубль год декабрь путин которыи налог закон ниже, маска рогозин заявить роскосмос с...</td>\n",
              "    </tr>\n",
              "    <tr>\n",
              "      <th>01.2021</th>\n",
              "      <td>[[должныи, школа, правило, год, время, также, ребенок, новыи, санитарныи требование организация,...</td>\n",
              "      <td>[должныи школа правило год время также ребенок новыи санитарныи требование организация образоват...</td>\n",
              "    </tr>\n",
              "    <tr>\n",
              "      <th>02.2019</th>\n",
              "      <td>[[американскии истребитель, самолет, раннии, год налетать, проектныи, списать, современныи требо...</td>\n",
              "      <td>[американскии истребитель самолет раннии год налетать проектныи списать современныи требование э...</td>\n",
              "    </tr>\n",
              "    <tr>\n",
              "      <th>02.2020</th>\n",
              "      <td>[[закон, сми, реалия, иноагент, россия, юридическии лицо, иностранныи агент мочь признать, росси...</td>\n",
              "      <td>[закон сми реалия иноагент россия юридическии лицо иностранныи агент мочь признать россиискии ст...</td>\n",
              "    </tr>\n",
              "  </tbody>\n",
              "</table>\n",
              "</div>"
            ],
            "text/plain": [
              "                                                                                                 kw_textrank                                                                                              kw_text\n",
              "dt                                                                                                                                                                                                               \n",
              "01.2019  [[год, россиискии фильм, разлогов, стать картина, премия оскар, гильдия, главныи, хорошии, кинок...  [год россиискии фильм разлогов стать картина премия оскар гильдия главныи хорошии кинокритик дви...\n",
              "01.2020  [[мрот, размер, рубль, год, декабрь, путин, которыи, налог, закон, ниже], [маска, рогозин заявит...  [мрот размер рубль год декабрь путин которыи налог закон ниже, маска рогозин заявить роскосмос с...\n",
              "01.2021  [[должныи, школа, правило, год, время, также, ребенок, новыи, санитарныи требование организация,...  [должныи школа правило год время также ребенок новыи санитарныи требование организация образоват...\n",
              "02.2019  [[американскии истребитель, самолет, раннии, год налетать, проектныи, списать, современныи требо...  [американскии истребитель самолет раннии год налетать проектныи списать современныи требование э...\n",
              "02.2020  [[закон, сми, реалия, иноагент, россия, юридическии лицо, иностранныи агент мочь признать, росси...  [закон сми реалия иноагент россия юридическии лицо иностранныи агент мочь признать россиискии ст..."
            ]
          },
          "metadata": {},
          "execution_count": 114
        }
      ],
      "source": [
        "gr.head()"
      ]
    },
    {
      "cell_type": "markdown",
      "source": [
        "Теперь на основе выделенных ключевых слов попробуем определить главные темы для каждого месяца с помощью LDA. Мне не понравились результаты выделения тем на исходных текстах, вижу следующие причины:\n",
        "\n",
        "\n",
        "*   большие объемы\n",
        "*   много однообразных новостей на похожие темы (политика, одни и те же имена и термины, много похожих статей про коронавирус и тд.), много шума\n",
        "\n",
        "Поэтому я решила запускать тематическое моделирование уже поверх выделенных ключевых слов. У этого, конечно, тоже есть минусы: теряется много информации из исходных текстов.\n",
        "\n",
        "Просмотрев  самые частые ключевые слова из пары текстов, я решила дополнительно удалить локальные стоп-слова.\n",
        "\n",
        "Пользоваться автоматически собранным списком самых частотных слов неудобно, так как могут удалиться важные, например \"президент\", \"коронавирус\" и др. \n",
        "\n",
        "Конечно, для построения более сложных моделей \"ручной\" способ не подходит, но здесь это было намного быстрее и осмысленнее.\n",
        "\n"
      ],
      "metadata": {
        "id": "obdwIeh0LR_W"
      }
    },
    {
      "cell_type": "code",
      "source": [
        "add_stopwords = ['год', 'которыи', 'также', 'свои', 'россия', 'это', 'россиискии', 'страна', 'сша', \n",
        "                 'такои', 'человек', 'самыи', 'назвать', 'рассказать', 'раскрыть', 'оценить', \n",
        "                 'сообщать', 'сказать', 'заявить','стать', 'однако', 'несколько', 'процент', 'один', \n",
        "                 'время', 'ранее', 'мужчина', 'женщина', 'январь', 'февраль', 'март', 'апрель', 'май', \n",
        "                 'июнь', 'июль', 'август', 'сентябрь', 'октябрь', 'ноябрь', 'декабрь']"
      ],
      "metadata": {
        "id": "euwD-w4z4cFA"
      },
      "execution_count": 119,
      "outputs": []
    },
    {
      "cell_type": "code",
      "source": [
        "# получим эмбеддинги слов с помощью Count Vectorizer\n",
        "\n",
        "def get_vector(corpus, vector_type):\n",
        "    X = vector_type.fit_transform(corpus)\n",
        "    vocab = vector_type.get_feature_names()\n",
        "    \n",
        "    return X, vocab"
      ],
      "metadata": {
        "id": "GhL4yguLOeoQ"
      },
      "execution_count": 123,
      "outputs": []
    },
    {
      "cell_type": "markdown",
      "source": [
        "Обучим LDA, взяв 15 эпох и 10 топиков в каждом тексте. Я выбрала эти значения приблизительно, из экономии времени. Вообще нужно подбирать лучшее значение, например, с помощью GridSearch. "
      ],
      "metadata": {
        "id": "j9zBqbU_PLbs"
      }
    },
    {
      "cell_type": "code",
      "source": [
        "N_TOPICS = 10\n",
        "N_PASSES = 15\n",
        "\n",
        "def fit_lda(X, vocab, num_topics=N_TOPICS, passes=N_PASSES):\n",
        "    print('fitting lda...')\n",
        "    return LdaModel( matutils.Sparse2Corpus(X.T), num_topics=num_topics,\n",
        "                    passes=passes, \n",
        "                    id2word=dict([(i, s) for i, s in enumerate(vocab)]))"
      ],
      "metadata": {
        "id": "vrUV_ICePHVM"
      },
      "execution_count": 122,
      "outputs": []
    },
    {
      "cell_type": "code",
      "source": [
        "# функция для получения ключевых слов каждой выделенной темы\n",
        "\n",
        "def print_topics(lda, vocab, n_words=5, n_topics=5):\n",
        "    \"\"\" Print the top words for each topic. \"\"\"\n",
        "    topics = lda.print_topics(num_topics=n_topics, num_words=n_words)\n",
        "    output = [re.findall('\\\"(.+?)\\\"', topic[1]) for topic in topics]\n",
        "    return output"
      ],
      "metadata": {
        "id": "fobeF9zvPpPz"
      },
      "execution_count": null,
      "outputs": []
    },
    {
      "cell_type": "code",
      "source": [
        "def lda_month(month):\n",
        "  count_vectorizer = CountVectorizer(stop_words=add_stopwords)\n",
        "  matrix, vocab = get_vector(month, count_vectorizer)\n",
        "  lda = fit_lda(matrix, vocab)\n",
        "  output = []\n",
        "  for i in print_topics(lda, vocab):\n",
        "    output.extend(i)\n",
        "  return set(output)"
      ],
      "metadata": {
        "id": "MVAgc6nWfyO0"
      },
      "execution_count": 120,
      "outputs": []
    },
    {
      "cell_type": "code",
      "source": [
        "gr['result'] = gr.kw_text.apply(lambda x: lda_month(x))"
      ],
      "metadata": {
        "colab": {
          "base_uri": "https://localhost:8080/"
        },
        "id": "lV-l2ZIJ4Je6",
        "outputId": "8aa5abc4-d73c-4f3f-8b44-0b5ed3cc46a0"
      },
      "execution_count": 121,
      "outputs": [
        {
          "output_type": "stream",
          "name": "stdout",
          "text": [
            "fitting lda...\n",
            "fitting lda...\n",
            "fitting lda...\n",
            "fitting lda...\n",
            "fitting lda...\n",
            "fitting lda...\n",
            "fitting lda...\n",
            "fitting lda...\n",
            "fitting lda...\n",
            "fitting lda...\n",
            "fitting lda...\n",
            "fitting lda...\n",
            "fitting lda...\n",
            "fitting lda...\n",
            "fitting lda...\n",
            "fitting lda...\n",
            "fitting lda...\n",
            "fitting lda...\n",
            "fitting lda...\n",
            "fitting lda...\n",
            "fitting lda...\n",
            "fitting lda...\n",
            "fitting lda...\n",
            "fitting lda...\n",
            "fitting lda...\n",
            "fitting lda...\n",
            "fitting lda...\n",
            "fitting lda...\n",
            "fitting lda...\n",
            "fitting lda...\n",
            "fitting lda...\n",
            "fitting lda...\n",
            "fitting lda...\n"
          ]
        }
      ]
    },
    {
      "cell_type": "markdown",
      "source": [
        "#Запись результата в файл"
      ],
      "metadata": {
        "id": "Nf_bBF-IAYZs"
      }
    },
    {
      "cell_type": "code",
      "source": [
        "hot_topic = gr[['result']]\n",
        "hot_topic.reset_index(inplace=True)\n",
        "hot_topic.columns = ['month', 'hot_topic']\n",
        "\n",
        "#чтобы отсортировать по месяцам, переведем в формат даты\n",
        "hot_topic['month'] = hot_topic.month.apply(lambda x: pd.to_datetime(x, format='%m.%Y'))\n",
        "hot_topic = hot_topic.sort_values('month')\n",
        "hot_topic['month'] = hot_topic.month.apply(lambda x: x.strftime('%m.%Y'))\n",
        "\n",
        "hot_topic['hot_topic'] = hot_topic.hot_topic.apply(lambda x: ', '.join(x))\n",
        "\n",
        "hot_topic.to_csv(os.path.join(folderpath, 'hot_topic.csv'), index=False)"
      ],
      "metadata": {
        "id": "xo7k29Yb585d"
      },
      "execution_count": 127,
      "outputs": []
    },
    {
      "cell_type": "code",
      "source": [
        "for i in hot_topic[(hot_topic.month == '03.2019')|(hot_topic.month == '04.2020')].hot_topic:\n",
        "  print(i)"
      ],
      "metadata": {
        "colab": {
          "base_uri": "https://localhost:8080/"
        },
        "id": "PdcUQLZsA6rN",
        "outputId": "0f059902-0b1c-4e0b-b18c-1bdf878fdeae"
      },
      "execution_count": 139,
      "outputs": [
        {
          "output_type": "stream",
          "name": "stdout",
          "text": [
            "боец, рубль, мать, ракета, погибнуть, сотрудник, регион, украина, слово, первыи, издание, самолет, ребенок, военныи, мир, фильм, москва, россиянин, президент, мочь, трамп, сторона\n",
            "средство, клетка, область, маска, ссылаться, рука, заболевание, пользователь, первыи, представитель, соглашение, сделка, случаи, каждыи, последнии, мочь, коронавирус, вирус, тысяча, пандемия\n"
          ]
        }
      ]
    },
    {
      "cell_type": "markdown",
      "source": [
        "Получилось довольно интересно, по крайней мере, видны основные направления. Апрель 2020 - разгар карантина в России, март 2019 - запуск ракеты Илона Маска, крушение самолета в Эфиопии, военные действия в Венесуэлле.\n",
        "\n"
      ],
      "metadata": {
        "id": "YdMFuWCTSem4"
      }
    },
    {
      "cell_type": "code",
      "source": [
        ""
      ],
      "metadata": {
        "id": "maku_87DSVgH"
      },
      "execution_count": null,
      "outputs": []
    }
  ],
  "metadata": {
    "colab": {
      "name": "lenta_ru_topics.ipynb",
      "provenance": [],
      "authorship_tag": "ABX9TyM6jTMgQakW9v0oK2iGb1i0",
      "include_colab_link": true
    },
    "kernelspec": {
      "display_name": "Python 3",
      "name": "python3"
    },
    "language_info": {
      "name": "python"
    },
    "widgets": {
      "application/vnd.jupyter.widget-state+json": {
        "0387f6893fd049499cbc87c3d2bd7566": {
          "model_module": "@jupyter-widgets/controls",
          "model_module_version": "1.5.0",
          "model_name": "HBoxModel",
          "state": {
            "_dom_classes": [],
            "_model_module": "@jupyter-widgets/controls",
            "_model_module_version": "1.5.0",
            "_model_name": "HBoxModel",
            "_view_count": null,
            "_view_module": "@jupyter-widgets/controls",
            "_view_module_version": "1.5.0",
            "_view_name": "HBoxView",
            "box_style": "",
            "children": [
              "IPY_MODEL_629870cecaa54ef6a3918c2265e0c533",
              "IPY_MODEL_3d681d88eb52438f8abacaf8af12c8f1",
              "IPY_MODEL_afcd622ed2794aeabc3b32c75ab32ee1"
            ],
            "layout": "IPY_MODEL_6a217158cf8e4f5da8e1176a0ebb113f"
          }
        },
        "115b7833995549ed88da643bce279eea": {
          "model_module": "@jupyter-widgets/base",
          "model_module_version": "1.2.0",
          "model_name": "LayoutModel",
          "state": {
            "_model_module": "@jupyter-widgets/base",
            "_model_module_version": "1.2.0",
            "_model_name": "LayoutModel",
            "_view_count": null,
            "_view_module": "@jupyter-widgets/base",
            "_view_module_version": "1.2.0",
            "_view_name": "LayoutView",
            "align_content": null,
            "align_items": null,
            "align_self": null,
            "border": null,
            "bottom": null,
            "display": null,
            "flex": null,
            "flex_flow": null,
            "grid_area": null,
            "grid_auto_columns": null,
            "grid_auto_flow": null,
            "grid_auto_rows": null,
            "grid_column": null,
            "grid_gap": null,
            "grid_row": null,
            "grid_template_areas": null,
            "grid_template_columns": null,
            "grid_template_rows": null,
            "height": null,
            "justify_content": null,
            "justify_items": null,
            "left": null,
            "margin": null,
            "max_height": null,
            "max_width": null,
            "min_height": null,
            "min_width": null,
            "object_fit": null,
            "object_position": null,
            "order": null,
            "overflow": null,
            "overflow_x": null,
            "overflow_y": null,
            "padding": null,
            "right": null,
            "top": null,
            "visibility": null,
            "width": null
          }
        },
        "18beb907e2364294888f88a8092b7a83": {
          "model_module": "@jupyter-widgets/controls",
          "model_module_version": "1.5.0",
          "model_name": "HTMLModel",
          "state": {
            "_dom_classes": [],
            "_model_module": "@jupyter-widgets/controls",
            "_model_module_version": "1.5.0",
            "_model_name": "HTMLModel",
            "_view_count": null,
            "_view_module": "@jupyter-widgets/controls",
            "_view_module_version": "1.5.0",
            "_view_name": "HTMLView",
            "description": "",
            "description_tooltip": null,
            "layout": "IPY_MODEL_4f2e09ee882c49cb8d70b8ea18c0281e",
            "placeholder": "​",
            "style": "IPY_MODEL_ce1e74f1fd7049e2b12ddd4f17713227",
            "value": "100%"
          }
        },
        "21e26aa84a4d4e52a151917a9d42f74c": {
          "model_module": "@jupyter-widgets/base",
          "model_module_version": "1.2.0",
          "model_name": "LayoutModel",
          "state": {
            "_model_module": "@jupyter-widgets/base",
            "_model_module_version": "1.2.0",
            "_model_name": "LayoutModel",
            "_view_count": null,
            "_view_module": "@jupyter-widgets/base",
            "_view_module_version": "1.2.0",
            "_view_name": "LayoutView",
            "align_content": null,
            "align_items": null,
            "align_self": null,
            "border": null,
            "bottom": null,
            "display": null,
            "flex": null,
            "flex_flow": null,
            "grid_area": null,
            "grid_auto_columns": null,
            "grid_auto_flow": null,
            "grid_auto_rows": null,
            "grid_column": null,
            "grid_gap": null,
            "grid_row": null,
            "grid_template_areas": null,
            "grid_template_columns": null,
            "grid_template_rows": null,
            "height": null,
            "justify_content": null,
            "justify_items": null,
            "left": null,
            "margin": null,
            "max_height": null,
            "max_width": null,
            "min_height": null,
            "min_width": null,
            "object_fit": null,
            "object_position": null,
            "order": null,
            "overflow": null,
            "overflow_x": null,
            "overflow_y": null,
            "padding": null,
            "right": null,
            "top": null,
            "visibility": null,
            "width": null
          }
        },
        "39c8b8e98f5344e2a1580b94252b45ce": {
          "model_module": "@jupyter-widgets/controls",
          "model_module_version": "1.5.0",
          "model_name": "ProgressStyleModel",
          "state": {
            "_model_module": "@jupyter-widgets/controls",
            "_model_module_version": "1.5.0",
            "_model_name": "ProgressStyleModel",
            "_view_count": null,
            "_view_module": "@jupyter-widgets/base",
            "_view_module_version": "1.2.0",
            "_view_name": "StyleView",
            "bar_color": null,
            "description_width": ""
          }
        },
        "3d681d88eb52438f8abacaf8af12c8f1": {
          "model_module": "@jupyter-widgets/controls",
          "model_module_version": "1.5.0",
          "model_name": "FloatProgressModel",
          "state": {
            "_dom_classes": [],
            "_model_module": "@jupyter-widgets/controls",
            "_model_module_version": "1.5.0",
            "_model_name": "FloatProgressModel",
            "_view_count": null,
            "_view_module": "@jupyter-widgets/controls",
            "_view_module_version": "1.5.0",
            "_view_name": "ProgressView",
            "bar_style": "success",
            "description": "",
            "description_tooltip": null,
            "layout": "IPY_MODEL_115b7833995549ed88da643bce279eea",
            "max": 29650,
            "min": 0,
            "orientation": "horizontal",
            "style": "IPY_MODEL_c314f68eb1ba467285f1d48ec7bb17c8",
            "value": 29650
          }
        },
        "42b39134ba6840568613663b04881f31": {
          "model_module": "@jupyter-widgets/controls",
          "model_module_version": "1.5.0",
          "model_name": "HBoxModel",
          "state": {
            "_dom_classes": [],
            "_model_module": "@jupyter-widgets/controls",
            "_model_module_version": "1.5.0",
            "_model_name": "HBoxModel",
            "_view_count": null,
            "_view_module": "@jupyter-widgets/controls",
            "_view_module_version": "1.5.0",
            "_view_name": "HBoxView",
            "box_style": "",
            "children": [
              "IPY_MODEL_18beb907e2364294888f88a8092b7a83",
              "IPY_MODEL_eecd436241c74bffa8d857b6c6ae9319",
              "IPY_MODEL_a000f134d4554cce88aa03e06fbde9cb"
            ],
            "layout": "IPY_MODEL_b0cc76f979b84c96818e218728e9feba"
          }
        },
        "4f2e09ee882c49cb8d70b8ea18c0281e": {
          "model_module": "@jupyter-widgets/base",
          "model_module_version": "1.2.0",
          "model_name": "LayoutModel",
          "state": {
            "_model_module": "@jupyter-widgets/base",
            "_model_module_version": "1.2.0",
            "_model_name": "LayoutModel",
            "_view_count": null,
            "_view_module": "@jupyter-widgets/base",
            "_view_module_version": "1.2.0",
            "_view_name": "LayoutView",
            "align_content": null,
            "align_items": null,
            "align_self": null,
            "border": null,
            "bottom": null,
            "display": null,
            "flex": null,
            "flex_flow": null,
            "grid_area": null,
            "grid_auto_columns": null,
            "grid_auto_flow": null,
            "grid_auto_rows": null,
            "grid_column": null,
            "grid_gap": null,
            "grid_row": null,
            "grid_template_areas": null,
            "grid_template_columns": null,
            "grid_template_rows": null,
            "height": null,
            "justify_content": null,
            "justify_items": null,
            "left": null,
            "margin": null,
            "max_height": null,
            "max_width": null,
            "min_height": null,
            "min_width": null,
            "object_fit": null,
            "object_position": null,
            "order": null,
            "overflow": null,
            "overflow_x": null,
            "overflow_y": null,
            "padding": null,
            "right": null,
            "top": null,
            "visibility": null,
            "width": null
          }
        },
        "629870cecaa54ef6a3918c2265e0c533": {
          "model_module": "@jupyter-widgets/controls",
          "model_module_version": "1.5.0",
          "model_name": "HTMLModel",
          "state": {
            "_dom_classes": [],
            "_model_module": "@jupyter-widgets/controls",
            "_model_module_version": "1.5.0",
            "_model_name": "HTMLModel",
            "_view_count": null,
            "_view_module": "@jupyter-widgets/controls",
            "_view_module_version": "1.5.0",
            "_view_name": "HTMLView",
            "description": "",
            "description_tooltip": null,
            "layout": "IPY_MODEL_d06f03fd1a684b2faea28e74e8ed0464",
            "placeholder": "​",
            "style": "IPY_MODEL_ac35037849bd4f3085b6a5403a263614",
            "value": "100%"
          }
        },
        "62e46f5256dc4660909f2439044f2553": {
          "model_module": "@jupyter-widgets/controls",
          "model_module_version": "1.5.0",
          "model_name": "DescriptionStyleModel",
          "state": {
            "_model_module": "@jupyter-widgets/controls",
            "_model_module_version": "1.5.0",
            "_model_name": "DescriptionStyleModel",
            "_view_count": null,
            "_view_module": "@jupyter-widgets/base",
            "_view_module_version": "1.2.0",
            "_view_name": "StyleView",
            "description_width": ""
          }
        },
        "6a217158cf8e4f5da8e1176a0ebb113f": {
          "model_module": "@jupyter-widgets/base",
          "model_module_version": "1.2.0",
          "model_name": "LayoutModel",
          "state": {
            "_model_module": "@jupyter-widgets/base",
            "_model_module_version": "1.2.0",
            "_model_name": "LayoutModel",
            "_view_count": null,
            "_view_module": "@jupyter-widgets/base",
            "_view_module_version": "1.2.0",
            "_view_name": "LayoutView",
            "align_content": null,
            "align_items": null,
            "align_self": null,
            "border": null,
            "bottom": null,
            "display": null,
            "flex": null,
            "flex_flow": null,
            "grid_area": null,
            "grid_auto_columns": null,
            "grid_auto_flow": null,
            "grid_auto_rows": null,
            "grid_column": null,
            "grid_gap": null,
            "grid_row": null,
            "grid_template_areas": null,
            "grid_template_columns": null,
            "grid_template_rows": null,
            "height": null,
            "justify_content": null,
            "justify_items": null,
            "left": null,
            "margin": null,
            "max_height": null,
            "max_width": null,
            "min_height": null,
            "min_width": null,
            "object_fit": null,
            "object_position": null,
            "order": null,
            "overflow": null,
            "overflow_x": null,
            "overflow_y": null,
            "padding": null,
            "right": null,
            "top": null,
            "visibility": null,
            "width": null
          }
        },
        "a000f134d4554cce88aa03e06fbde9cb": {
          "model_module": "@jupyter-widgets/controls",
          "model_module_version": "1.5.0",
          "model_name": "HTMLModel",
          "state": {
            "_dom_classes": [],
            "_model_module": "@jupyter-widgets/controls",
            "_model_module_version": "1.5.0",
            "_model_name": "HTMLModel",
            "_view_count": null,
            "_view_module": "@jupyter-widgets/controls",
            "_view_module_version": "1.5.0",
            "_view_name": "HTMLView",
            "description": "",
            "description_tooltip": null,
            "layout": "IPY_MODEL_e2e63e19b55a4f7d90169cee27cc6ec1",
            "placeholder": "​",
            "style": "IPY_MODEL_cfda609d4b464f308f71b3a6725b3f12",
            "value": " 29650/29650 [16:13&lt;00:00, 23.55it/s]"
          }
        },
        "ac35037849bd4f3085b6a5403a263614": {
          "model_module": "@jupyter-widgets/controls",
          "model_module_version": "1.5.0",
          "model_name": "DescriptionStyleModel",
          "state": {
            "_model_module": "@jupyter-widgets/controls",
            "_model_module_version": "1.5.0",
            "_model_name": "DescriptionStyleModel",
            "_view_count": null,
            "_view_module": "@jupyter-widgets/base",
            "_view_module_version": "1.2.0",
            "_view_name": "StyleView",
            "description_width": ""
          }
        },
        "afcd622ed2794aeabc3b32c75ab32ee1": {
          "model_module": "@jupyter-widgets/controls",
          "model_module_version": "1.5.0",
          "model_name": "HTMLModel",
          "state": {
            "_dom_classes": [],
            "_model_module": "@jupyter-widgets/controls",
            "_model_module_version": "1.5.0",
            "_model_name": "HTMLModel",
            "_view_count": null,
            "_view_module": "@jupyter-widgets/controls",
            "_view_module_version": "1.5.0",
            "_view_name": "HTMLView",
            "description": "",
            "description_tooltip": null,
            "layout": "IPY_MODEL_b6aa0c6b305d48a0bef123a867ab9d64",
            "placeholder": "​",
            "style": "IPY_MODEL_62e46f5256dc4660909f2439044f2553",
            "value": " 29650/29650 [00:50&lt;00:00, 566.14it/s]"
          }
        },
        "b0cc76f979b84c96818e218728e9feba": {
          "model_module": "@jupyter-widgets/base",
          "model_module_version": "1.2.0",
          "model_name": "LayoutModel",
          "state": {
            "_model_module": "@jupyter-widgets/base",
            "_model_module_version": "1.2.0",
            "_model_name": "LayoutModel",
            "_view_count": null,
            "_view_module": "@jupyter-widgets/base",
            "_view_module_version": "1.2.0",
            "_view_name": "LayoutView",
            "align_content": null,
            "align_items": null,
            "align_self": null,
            "border": null,
            "bottom": null,
            "display": null,
            "flex": null,
            "flex_flow": null,
            "grid_area": null,
            "grid_auto_columns": null,
            "grid_auto_flow": null,
            "grid_auto_rows": null,
            "grid_column": null,
            "grid_gap": null,
            "grid_row": null,
            "grid_template_areas": null,
            "grid_template_columns": null,
            "grid_template_rows": null,
            "height": null,
            "justify_content": null,
            "justify_items": null,
            "left": null,
            "margin": null,
            "max_height": null,
            "max_width": null,
            "min_height": null,
            "min_width": null,
            "object_fit": null,
            "object_position": null,
            "order": null,
            "overflow": null,
            "overflow_x": null,
            "overflow_y": null,
            "padding": null,
            "right": null,
            "top": null,
            "visibility": null,
            "width": null
          }
        },
        "b6aa0c6b305d48a0bef123a867ab9d64": {
          "model_module": "@jupyter-widgets/base",
          "model_module_version": "1.2.0",
          "model_name": "LayoutModel",
          "state": {
            "_model_module": "@jupyter-widgets/base",
            "_model_module_version": "1.2.0",
            "_model_name": "LayoutModel",
            "_view_count": null,
            "_view_module": "@jupyter-widgets/base",
            "_view_module_version": "1.2.0",
            "_view_name": "LayoutView",
            "align_content": null,
            "align_items": null,
            "align_self": null,
            "border": null,
            "bottom": null,
            "display": null,
            "flex": null,
            "flex_flow": null,
            "grid_area": null,
            "grid_auto_columns": null,
            "grid_auto_flow": null,
            "grid_auto_rows": null,
            "grid_column": null,
            "grid_gap": null,
            "grid_row": null,
            "grid_template_areas": null,
            "grid_template_columns": null,
            "grid_template_rows": null,
            "height": null,
            "justify_content": null,
            "justify_items": null,
            "left": null,
            "margin": null,
            "max_height": null,
            "max_width": null,
            "min_height": null,
            "min_width": null,
            "object_fit": null,
            "object_position": null,
            "order": null,
            "overflow": null,
            "overflow_x": null,
            "overflow_y": null,
            "padding": null,
            "right": null,
            "top": null,
            "visibility": null,
            "width": null
          }
        },
        "c314f68eb1ba467285f1d48ec7bb17c8": {
          "model_module": "@jupyter-widgets/controls",
          "model_module_version": "1.5.0",
          "model_name": "ProgressStyleModel",
          "state": {
            "_model_module": "@jupyter-widgets/controls",
            "_model_module_version": "1.5.0",
            "_model_name": "ProgressStyleModel",
            "_view_count": null,
            "_view_module": "@jupyter-widgets/base",
            "_view_module_version": "1.2.0",
            "_view_name": "StyleView",
            "bar_color": null,
            "description_width": ""
          }
        },
        "ce1e74f1fd7049e2b12ddd4f17713227": {
          "model_module": "@jupyter-widgets/controls",
          "model_module_version": "1.5.0",
          "model_name": "DescriptionStyleModel",
          "state": {
            "_model_module": "@jupyter-widgets/controls",
            "_model_module_version": "1.5.0",
            "_model_name": "DescriptionStyleModel",
            "_view_count": null,
            "_view_module": "@jupyter-widgets/base",
            "_view_module_version": "1.2.0",
            "_view_name": "StyleView",
            "description_width": ""
          }
        },
        "cfda609d4b464f308f71b3a6725b3f12": {
          "model_module": "@jupyter-widgets/controls",
          "model_module_version": "1.5.0",
          "model_name": "DescriptionStyleModel",
          "state": {
            "_model_module": "@jupyter-widgets/controls",
            "_model_module_version": "1.5.0",
            "_model_name": "DescriptionStyleModel",
            "_view_count": null,
            "_view_module": "@jupyter-widgets/base",
            "_view_module_version": "1.2.0",
            "_view_name": "StyleView",
            "description_width": ""
          }
        },
        "d06f03fd1a684b2faea28e74e8ed0464": {
          "model_module": "@jupyter-widgets/base",
          "model_module_version": "1.2.0",
          "model_name": "LayoutModel",
          "state": {
            "_model_module": "@jupyter-widgets/base",
            "_model_module_version": "1.2.0",
            "_model_name": "LayoutModel",
            "_view_count": null,
            "_view_module": "@jupyter-widgets/base",
            "_view_module_version": "1.2.0",
            "_view_name": "LayoutView",
            "align_content": null,
            "align_items": null,
            "align_self": null,
            "border": null,
            "bottom": null,
            "display": null,
            "flex": null,
            "flex_flow": null,
            "grid_area": null,
            "grid_auto_columns": null,
            "grid_auto_flow": null,
            "grid_auto_rows": null,
            "grid_column": null,
            "grid_gap": null,
            "grid_row": null,
            "grid_template_areas": null,
            "grid_template_columns": null,
            "grid_template_rows": null,
            "height": null,
            "justify_content": null,
            "justify_items": null,
            "left": null,
            "margin": null,
            "max_height": null,
            "max_width": null,
            "min_height": null,
            "min_width": null,
            "object_fit": null,
            "object_position": null,
            "order": null,
            "overflow": null,
            "overflow_x": null,
            "overflow_y": null,
            "padding": null,
            "right": null,
            "top": null,
            "visibility": null,
            "width": null
          }
        },
        "e2e63e19b55a4f7d90169cee27cc6ec1": {
          "model_module": "@jupyter-widgets/base",
          "model_module_version": "1.2.0",
          "model_name": "LayoutModel",
          "state": {
            "_model_module": "@jupyter-widgets/base",
            "_model_module_version": "1.2.0",
            "_model_name": "LayoutModel",
            "_view_count": null,
            "_view_module": "@jupyter-widgets/base",
            "_view_module_version": "1.2.0",
            "_view_name": "LayoutView",
            "align_content": null,
            "align_items": null,
            "align_self": null,
            "border": null,
            "bottom": null,
            "display": null,
            "flex": null,
            "flex_flow": null,
            "grid_area": null,
            "grid_auto_columns": null,
            "grid_auto_flow": null,
            "grid_auto_rows": null,
            "grid_column": null,
            "grid_gap": null,
            "grid_row": null,
            "grid_template_areas": null,
            "grid_template_columns": null,
            "grid_template_rows": null,
            "height": null,
            "justify_content": null,
            "justify_items": null,
            "left": null,
            "margin": null,
            "max_height": null,
            "max_width": null,
            "min_height": null,
            "min_width": null,
            "object_fit": null,
            "object_position": null,
            "order": null,
            "overflow": null,
            "overflow_x": null,
            "overflow_y": null,
            "padding": null,
            "right": null,
            "top": null,
            "visibility": null,
            "width": null
          }
        },
        "eecd436241c74bffa8d857b6c6ae9319": {
          "model_module": "@jupyter-widgets/controls",
          "model_module_version": "1.5.0",
          "model_name": "FloatProgressModel",
          "state": {
            "_dom_classes": [],
            "_model_module": "@jupyter-widgets/controls",
            "_model_module_version": "1.5.0",
            "_model_name": "FloatProgressModel",
            "_view_count": null,
            "_view_module": "@jupyter-widgets/controls",
            "_view_module_version": "1.5.0",
            "_view_name": "ProgressView",
            "bar_style": "success",
            "description": "",
            "description_tooltip": null,
            "layout": "IPY_MODEL_21e26aa84a4d4e52a151917a9d42f74c",
            "max": 29650,
            "min": 0,
            "orientation": "horizontal",
            "style": "IPY_MODEL_39c8b8e98f5344e2a1580b94252b45ce",
            "value": 29650
          }
        }
      }
    }
  },
  "nbformat": 4,
  "nbformat_minor": 0
}